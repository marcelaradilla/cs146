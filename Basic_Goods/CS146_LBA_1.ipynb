{
  "nbformat": 4,
  "nbformat_minor": 0,
  "metadata": {
    "colab": {
      "name": "CS146 LBA.ipynb",
      "provenance": [],
      "collapsed_sections": [
        "CRWB_QbXMq5q"
      ]
    },
    "kernelspec": {
      "name": "python3",
      "display_name": "Python 3"
    }
  },
  "cells": [
    {
      "cell_type": "markdown",
      "metadata": {
        "id": "MdbP3Y-iMvf0"
      },
      "source": [
        "#The Price of Basic Goods\n",
        "\n",
        "\n",
        "---\n",
        "**CS146 LBA** \n",
        "\n",
        "Marcela Radilla Deloya "
      ]
    },
    {
      "cell_type": "code",
      "metadata": {
        "id": "e-A7yO5pMu_8"
      },
      "source": [
        "import pystan\n",
        "import numpy as np\n",
        "import matplotlib.pyplot as plt\n",
        "import pandas as pd \n",
        "import scipy.stats as sts"
      ],
      "execution_count": 235,
      "outputs": []
    },
    {
      "cell_type": "markdown",
      "metadata": {
        "id": "MCGNux_etK_l"
      },
      "source": [
        "## Data Preprocessing"
      ]
    },
    {
      "cell_type": "code",
      "metadata": {
        "id": "zy8k14WyMvCh"
      },
      "source": [
        "# I a lot of preprocessing in google sheets which was dropping all the names, emails, addresses, converting the currency, and normalizing the prices.\n",
        "dataset = pd.read_csv('https://raw.githubusercontent.com/marcelaradilla/cs146/a1f148c65ba17534d0bcbf900c40ed684ce0941f/LBA_data_clean1.csv')"
      ],
      "execution_count": 236,
      "outputs": []
    },
    {
      "cell_type": "code",
      "metadata": {
        "id": "Pe0EeEKetdwz",
        "outputId": "a31c4399-618b-4cf4-de9d-c11700e643c8",
        "colab": {
          "base_uri": "https://localhost:8080/",
          "height": 258
        }
      },
      "source": [
        "dataset.head()"
      ],
      "execution_count": 237,
      "outputs": [
        {
          "output_type": "execute_result",
          "data": {
            "text/html": [
              "<div>\n",
              "<style scoped>\n",
              "    .dataframe tbody tr th:only-of-type {\n",
              "        vertical-align: middle;\n",
              "    }\n",
              "\n",
              "    .dataframe tbody tr th {\n",
              "        vertical-align: top;\n",
              "    }\n",
              "\n",
              "    .dataframe thead th {\n",
              "        text-align: right;\n",
              "    }\n",
              "</style>\n",
              "<table border=\"1\" class=\"dataframe\">\n",
              "  <thead>\n",
              "    <tr style=\"text-align: right;\">\n",
              "      <th></th>\n",
              "      <th>Country</th>\n",
              "      <th>Store</th>\n",
              "      <th>Perception</th>\n",
              "      <th>Rent</th>\n",
              "      <th>P1M1</th>\n",
              "      <th>P1M2</th>\n",
              "      <th>P1M3</th>\n",
              "      <th>P2M1</th>\n",
              "      <th>P2M2</th>\n",
              "      <th>P2M3</th>\n",
              "      <th>P3M1</th>\n",
              "      <th>P3M2</th>\n",
              "      <th>P3M3</th>\n",
              "      <th>P4M1</th>\n",
              "      <th>P4M2</th>\n",
              "      <th>P4M3</th>\n",
              "      <th>P5M1</th>\n",
              "      <th>P5M2</th>\n",
              "      <th>P5M3</th>\n",
              "      <th>P6M1</th>\n",
              "      <th>P6M2</th>\n",
              "      <th>P6M3</th>\n",
              "      <th>P7M1</th>\n",
              "      <th>P7M2</th>\n",
              "      <th>P7M3</th>\n",
              "      <th>P8M1</th>\n",
              "      <th>P8M2</th>\n",
              "      <th>P8M3</th>\n",
              "      <th>P9M1</th>\n",
              "      <th>P9M2</th>\n",
              "      <th>P9M3</th>\n",
              "      <th>P10M1</th>\n",
              "      <th>P10M2</th>\n",
              "      <th>P10M3</th>\n",
              "    </tr>\n",
              "  </thead>\n",
              "  <tbody>\n",
              "    <tr>\n",
              "      <th>0</th>\n",
              "      <td>Germany</td>\n",
              "      <td>EDEKA</td>\n",
              "      <td>Mid-range</td>\n",
              "      <td>1071.00</td>\n",
              "      <td>3.4867</td>\n",
              "      <td>1.9159</td>\n",
              "      <td>2.082500</td>\n",
              "      <td>2.0587</td>\n",
              "      <td>2.0587</td>\n",
              "      <td>0.0000</td>\n",
              "      <td>5.80125</td>\n",
              "      <td>5.331200</td>\n",
              "      <td>3.37960</td>\n",
              "      <td>0.571200</td>\n",
              "      <td>0.624750</td>\n",
              "      <td>1.148350</td>\n",
              "      <td>2.0825</td>\n",
              "      <td>1.4994</td>\n",
              "      <td>1.8564</td>\n",
              "      <td>9.2820</td>\n",
              "      <td>6.7354</td>\n",
              "      <td>5.819100</td>\n",
              "      <td>1.7374</td>\n",
              "      <td>1.2495</td>\n",
              "      <td>1.4875</td>\n",
              "      <td>10.2340</td>\n",
              "      <td>10.1864</td>\n",
              "      <td>9.9960</td>\n",
              "      <td>0.751683</td>\n",
              "      <td>0.347083</td>\n",
              "      <td>0.592025</td>\n",
              "      <td>15.141987</td>\n",
              "      <td>7.675500</td>\n",
              "      <td>8.627500</td>\n",
              "    </tr>\n",
              "    <tr>\n",
              "      <th>1</th>\n",
              "      <td>Germany</td>\n",
              "      <td>EDEKA</td>\n",
              "      <td>Mid-range</td>\n",
              "      <td>1011.50</td>\n",
              "      <td>2.3205</td>\n",
              "      <td>3.4867</td>\n",
              "      <td>4.358375</td>\n",
              "      <td>2.0587</td>\n",
              "      <td>1.3209</td>\n",
              "      <td>2.0587</td>\n",
              "      <td>3.37960</td>\n",
              "      <td>5.807200</td>\n",
              "      <td>5.75960</td>\n",
              "      <td>1.293133</td>\n",
              "      <td>1.293133</td>\n",
              "      <td>3.570000</td>\n",
              "      <td>1.1543</td>\n",
              "      <td>1.5946</td>\n",
              "      <td>2.0825</td>\n",
              "      <td>5.8072</td>\n",
              "      <td>7.7588</td>\n",
              "      <td>11.622333</td>\n",
              "      <td>0.9044</td>\n",
              "      <td>1.7374</td>\n",
              "      <td>1.8564</td>\n",
              "      <td>8.5680</td>\n",
              "      <td>10.9956</td>\n",
              "      <td>7.4256</td>\n",
              "      <td>0.581117</td>\n",
              "      <td>0.541450</td>\n",
              "      <td>0.193970</td>\n",
              "      <td>15.161929</td>\n",
              "      <td>19.842558</td>\n",
              "      <td>34.896463</td>\n",
              "    </tr>\n",
              "    <tr>\n",
              "      <th>2</th>\n",
              "      <td>Germany</td>\n",
              "      <td>EDEKA</td>\n",
              "      <td>Mid-range</td>\n",
              "      <td>1190.00</td>\n",
              "      <td>3.4867</td>\n",
              "      <td>1.4875</td>\n",
              "      <td>2.034900</td>\n",
              "      <td>2.7965</td>\n",
              "      <td>1.7374</td>\n",
              "      <td>0.0000</td>\n",
              "      <td>2.28480</td>\n",
              "      <td>11.622333</td>\n",
              "      <td>13.94680</td>\n",
              "      <td>0.868700</td>\n",
              "      <td>1.743350</td>\n",
              "      <td>2.320500</td>\n",
              "      <td>1.1305</td>\n",
              "      <td>0.4522</td>\n",
              "      <td>1.7374</td>\n",
              "      <td>6.1761</td>\n",
              "      <td>2.2967</td>\n",
              "      <td>5.128900</td>\n",
              "      <td>0.9044</td>\n",
              "      <td>2.0944</td>\n",
              "      <td>1.4637</td>\n",
              "      <td>13.1376</td>\n",
              "      <td>6.4736</td>\n",
              "      <td>13.9468</td>\n",
              "      <td>0.290360</td>\n",
              "      <td>0.384370</td>\n",
              "      <td>0.148750</td>\n",
              "      <td>7.695333</td>\n",
              "      <td>8.657250</td>\n",
              "      <td>0.000000</td>\n",
              "    </tr>\n",
              "    <tr>\n",
              "      <th>3</th>\n",
              "      <td>Germany</td>\n",
              "      <td>Alnatura</td>\n",
              "      <td>Luxury (expensive)</td>\n",
              "      <td>1190.00</td>\n",
              "      <td>4.7481</td>\n",
              "      <td>4.7481</td>\n",
              "      <td>4.748100</td>\n",
              "      <td>2.7251</td>\n",
              "      <td>0.0000</td>\n",
              "      <td>0.0000</td>\n",
              "      <td>9.40100</td>\n",
              "      <td>7.128100</td>\n",
              "      <td>11.78100</td>\n",
              "      <td>2.963100</td>\n",
              "      <td>2.969050</td>\n",
              "      <td>3.564050</td>\n",
              "      <td>1.7731</td>\n",
              "      <td>1.1305</td>\n",
              "      <td>1.7731</td>\n",
              "      <td>4.7481</td>\n",
              "      <td>7.1281</td>\n",
              "      <td>9.151100</td>\n",
              "      <td>1.7731</td>\n",
              "      <td>1.5351</td>\n",
              "      <td>1.3685</td>\n",
              "      <td>14.2324</td>\n",
              "      <td>11.8524</td>\n",
              "      <td>12.3284</td>\n",
              "      <td>0.510510</td>\n",
              "      <td>0.236810</td>\n",
              "      <td>0.535500</td>\n",
              "      <td>39.151000</td>\n",
              "      <td>0.000000</td>\n",
              "      <td>0.000000</td>\n",
              "    </tr>\n",
              "    <tr>\n",
              "      <th>4</th>\n",
              "      <td>Germany</td>\n",
              "      <td>EDEKA</td>\n",
              "      <td>Budget (cheap)</td>\n",
              "      <td>1065.05</td>\n",
              "      <td>3.4867</td>\n",
              "      <td>3.4867</td>\n",
              "      <td>3.486700</td>\n",
              "      <td>2.0587</td>\n",
              "      <td>1.3209</td>\n",
              "      <td>4.6172</td>\n",
              "      <td>7.25900</td>\n",
              "      <td>5.759600</td>\n",
              "      <td>5.80125</td>\n",
              "      <td>0.928200</td>\n",
              "      <td>2.320500</td>\n",
              "      <td>0.464893</td>\n",
              "      <td>0.4403</td>\n",
              "      <td>0.9044</td>\n",
              "      <td>1.0234</td>\n",
              "      <td>5.8072</td>\n",
              "      <td>7.7588</td>\n",
              "      <td>4.569600</td>\n",
              "      <td>0.8449</td>\n",
              "      <td>0.0000</td>\n",
              "      <td>0.0000</td>\n",
              "      <td>9.9960</td>\n",
              "      <td>6.6045</td>\n",
              "      <td>10.5672</td>\n",
              "      <td>0.581117</td>\n",
              "      <td>0.483933</td>\n",
              "      <td>0.278460</td>\n",
              "      <td>7.675500</td>\n",
              "      <td>15.148214</td>\n",
              "      <td>11.649850</td>\n",
              "    </tr>\n",
              "  </tbody>\n",
              "</table>\n",
              "</div>"
            ],
            "text/plain": [
              "   Country     Store          Perception  ...      P10M1      P10M2      P10M3\n",
              "0  Germany     EDEKA           Mid-range  ...  15.141987   7.675500   8.627500\n",
              "1  Germany     EDEKA           Mid-range  ...  15.161929  19.842558  34.896463\n",
              "2  Germany     EDEKA           Mid-range  ...   7.695333   8.657250   0.000000\n",
              "3  Germany  Alnatura  Luxury (expensive)  ...  39.151000   0.000000   0.000000\n",
              "4  Germany     EDEKA      Budget (cheap)  ...   7.675500  15.148214  11.649850\n",
              "\n",
              "[5 rows x 34 columns]"
            ]
          },
          "metadata": {
            "tags": []
          },
          "execution_count": 237
        }
      ]
    },
    {
      "cell_type": "markdown",
      "metadata": {
        "id": "nHMClaX5qC3P"
      },
      "source": [
        "We will now reshape the dataset to have one row per price observation, meaning that for each row of the original dataset, we will take the first 4 columns, make 30 copies of it, and for each row (1:30) we will add the price observation. We will keep track of which column those observations are coming from so that we add an extra column for what kind of product that observation is coming from. "
      ]
    },
    {
      "cell_type": "code",
      "metadata": {
        "id": "2soO8lGyNbXX"
      },
      "source": [
        "#in this cell we iterate through the 64 responses to the form and we add the price from each of the 30 price columns to each of the rows. \n",
        "all_data = []\n",
        "for i in range(64):\n",
        "  for j in range(30):\n",
        "    all_data.append(np.concatenate((dataset.iloc[i][:4], [dataset.iloc[i][4:][j]], [dataset.iloc[i][4:].index[j][1:-2]])))\n",
        "    #to encode the product column, we take from the second character to the character that is before the last two (the third to last).\n",
        "    #example: from the column title P1M1, [1:-2], takes only 1. \n",
        "#in the end we have a dataframe with the colums: 'country','store','perception','rent','price','product' \n",
        "df = pd.DataFrame(all_data, columns=['country','store','perception','rent','price','product'])"
      ],
      "execution_count": 238,
      "outputs": []
    },
    {
      "cell_type": "code",
      "metadata": {
        "id": "e60rJpPupsyd",
        "outputId": "10f54331-487c-4ace-fbd5-32c70c582140",
        "colab": {
          "base_uri": "https://localhost:8080/"
        }
      },
      "source": [
        "#making sure that we have no repetitions \n",
        "#NOTE: The store named Market was given because a student did not put the name of the store and it did not come up \n",
        "#when we looked the address up on Google Maps\n",
        "np.unique(df.store)"
      ],
      "execution_count": 239,
      "outputs": [
        {
          "output_type": "execute_result",
          "data": {
            "text/plain": [
              "array(['ALDI', 'Albertsons', 'Alnatura', 'Big C', 'Carrefour', 'Chung cu',\n",
              "       'Coupang', 'EDEKA', 'Epicerie', 'Foodsco', 'Grocery Outlet',\n",
              "       'Latorre', 'Lidl', 'Marjane', 'Market', 'Nam An', 'REWE',\n",
              "       'Safeway', 'Sainsburys', 'Smiths', 'Target', 'Tesco',\n",
              "       'Trader Joes', 'Vons', 'Waitrose', 'Walmart', 'Whole Foods'],\n",
              "      dtype=object)"
            ]
          },
          "metadata": {
            "tags": []
          },
          "execution_count": 239
        }
      ]
    },
    {
      "cell_type": "code",
      "metadata": {
        "id": "1dzeBPshrjkp",
        "outputId": "9797d862-82b2-486e-f65a-7903c3dba72b",
        "colab": {
          "base_uri": "https://localhost:8080/"
        }
      },
      "source": [
        "np.unique(df.country)"
      ],
      "execution_count": 240,
      "outputs": [
        {
          "output_type": "execute_result",
          "data": {
            "text/plain": [
              "array(['Germany', 'Guatemala', 'Morocco', 'South Korea', 'UK', 'USA',\n",
              "       'Vietnam'], dtype=object)"
            ]
          },
          "metadata": {
            "tags": []
          },
          "execution_count": 240
        }
      ]
    },
    {
      "cell_type": "markdown",
      "metadata": {
        "id": "wgzjBvP1tHny"
      },
      "source": [
        "We will now encode the country and the perception characteristics into numbers in a column. "
      ]
    },
    {
      "cell_type": "code",
      "metadata": {
        "id": "yjzLOrYJkgiM"
      },
      "source": [
        "df['perception_code'] = pd.factorize(df['perception'], sort=True)[0] + 1\n",
        "df['country_code'] = pd.factorize(df['country'], sort=True)[0] + 1"
      ],
      "execution_count": 241,
      "outputs": []
    },
    {
      "cell_type": "code",
      "metadata": {
        "id": "xuJHDk74pN8q",
        "outputId": "0f97b234-b8f6-4d40-bcee-defd1c5779e5",
        "colab": {
          "base_uri": "https://localhost:8080/",
          "height": 419
        }
      },
      "source": [
        "df"
      ],
      "execution_count": 242,
      "outputs": [
        {
          "output_type": "execute_result",
          "data": {
            "text/html": [
              "<div>\n",
              "<style scoped>\n",
              "    .dataframe tbody tr th:only-of-type {\n",
              "        vertical-align: middle;\n",
              "    }\n",
              "\n",
              "    .dataframe tbody tr th {\n",
              "        vertical-align: top;\n",
              "    }\n",
              "\n",
              "    .dataframe thead th {\n",
              "        text-align: right;\n",
              "    }\n",
              "</style>\n",
              "<table border=\"1\" class=\"dataframe\">\n",
              "  <thead>\n",
              "    <tr style=\"text-align: right;\">\n",
              "      <th></th>\n",
              "      <th>country</th>\n",
              "      <th>store</th>\n",
              "      <th>perception</th>\n",
              "      <th>rent</th>\n",
              "      <th>price</th>\n",
              "      <th>product</th>\n",
              "      <th>perception_code</th>\n",
              "      <th>country_code</th>\n",
              "    </tr>\n",
              "  </thead>\n",
              "  <tbody>\n",
              "    <tr>\n",
              "      <th>0</th>\n",
              "      <td>Germany</td>\n",
              "      <td>EDEKA</td>\n",
              "      <td>Mid-range</td>\n",
              "      <td>1071.0</td>\n",
              "      <td>3.486700</td>\n",
              "      <td>1</td>\n",
              "      <td>3</td>\n",
              "      <td>1</td>\n",
              "    </tr>\n",
              "    <tr>\n",
              "      <th>1</th>\n",
              "      <td>Germany</td>\n",
              "      <td>EDEKA</td>\n",
              "      <td>Mid-range</td>\n",
              "      <td>1071.0</td>\n",
              "      <td>1.915900</td>\n",
              "      <td>1</td>\n",
              "      <td>3</td>\n",
              "      <td>1</td>\n",
              "    </tr>\n",
              "    <tr>\n",
              "      <th>2</th>\n",
              "      <td>Germany</td>\n",
              "      <td>EDEKA</td>\n",
              "      <td>Mid-range</td>\n",
              "      <td>1071.0</td>\n",
              "      <td>2.082500</td>\n",
              "      <td>1</td>\n",
              "      <td>3</td>\n",
              "      <td>1</td>\n",
              "    </tr>\n",
              "    <tr>\n",
              "      <th>3</th>\n",
              "      <td>Germany</td>\n",
              "      <td>EDEKA</td>\n",
              "      <td>Mid-range</td>\n",
              "      <td>1071.0</td>\n",
              "      <td>2.058700</td>\n",
              "      <td>2</td>\n",
              "      <td>3</td>\n",
              "      <td>1</td>\n",
              "    </tr>\n",
              "    <tr>\n",
              "      <th>4</th>\n",
              "      <td>Germany</td>\n",
              "      <td>EDEKA</td>\n",
              "      <td>Mid-range</td>\n",
              "      <td>1071.0</td>\n",
              "      <td>2.058700</td>\n",
              "      <td>2</td>\n",
              "      <td>3</td>\n",
              "      <td>1</td>\n",
              "    </tr>\n",
              "    <tr>\n",
              "      <th>...</th>\n",
              "      <td>...</td>\n",
              "      <td>...</td>\n",
              "      <td>...</td>\n",
              "      <td>...</td>\n",
              "      <td>...</td>\n",
              "      <td>...</td>\n",
              "      <td>...</td>\n",
              "      <td>...</td>\n",
              "    </tr>\n",
              "    <tr>\n",
              "      <th>1915</th>\n",
              "      <td>Vietnam</td>\n",
              "      <td>Chung cu</td>\n",
              "      <td>Mid-range</td>\n",
              "      <td>500.0</td>\n",
              "      <td>0.111667</td>\n",
              "      <td>9</td>\n",
              "      <td>3</td>\n",
              "      <td>7</td>\n",
              "    </tr>\n",
              "    <tr>\n",
              "      <th>1916</th>\n",
              "      <td>Vietnam</td>\n",
              "      <td>Chung cu</td>\n",
              "      <td>Mid-range</td>\n",
              "      <td>500.0</td>\n",
              "      <td>0.111667</td>\n",
              "      <td>9</td>\n",
              "      <td>3</td>\n",
              "      <td>7</td>\n",
              "    </tr>\n",
              "    <tr>\n",
              "      <th>1917</th>\n",
              "      <td>Vietnam</td>\n",
              "      <td>Chung cu</td>\n",
              "      <td>Mid-range</td>\n",
              "      <td>500.0</td>\n",
              "      <td>4.480000</td>\n",
              "      <td>10</td>\n",
              "      <td>3</td>\n",
              "      <td>7</td>\n",
              "    </tr>\n",
              "    <tr>\n",
              "      <th>1918</th>\n",
              "      <td>Vietnam</td>\n",
              "      <td>Chung cu</td>\n",
              "      <td>Mid-range</td>\n",
              "      <td>500.0</td>\n",
              "      <td>3.800000</td>\n",
              "      <td>10</td>\n",
              "      <td>3</td>\n",
              "      <td>7</td>\n",
              "    </tr>\n",
              "    <tr>\n",
              "      <th>1919</th>\n",
              "      <td>Vietnam</td>\n",
              "      <td>Chung cu</td>\n",
              "      <td>Mid-range</td>\n",
              "      <td>500.0</td>\n",
              "      <td>4.660000</td>\n",
              "      <td>10</td>\n",
              "      <td>3</td>\n",
              "      <td>7</td>\n",
              "    </tr>\n",
              "  </tbody>\n",
              "</table>\n",
              "<p>1920 rows × 8 columns</p>\n",
              "</div>"
            ],
            "text/plain": [
              "      country     store perception  ...  product  perception_code country_code\n",
              "0     Germany     EDEKA  Mid-range  ...        1                3            1\n",
              "1     Germany     EDEKA  Mid-range  ...        1                3            1\n",
              "2     Germany     EDEKA  Mid-range  ...        1                3            1\n",
              "3     Germany     EDEKA  Mid-range  ...        2                3            1\n",
              "4     Germany     EDEKA  Mid-range  ...        2                3            1\n",
              "...       ...       ...        ...  ...      ...              ...          ...\n",
              "1915  Vietnam  Chung cu  Mid-range  ...        9                3            7\n",
              "1916  Vietnam  Chung cu  Mid-range  ...        9                3            7\n",
              "1917  Vietnam  Chung cu  Mid-range  ...       10                3            7\n",
              "1918  Vietnam  Chung cu  Mid-range  ...       10                3            7\n",
              "1919  Vietnam  Chung cu  Mid-range  ...       10                3            7\n",
              "\n",
              "[1920 rows x 8 columns]"
            ]
          },
          "metadata": {
            "tags": []
          },
          "execution_count": 242
        }
      ]
    },
    {
      "cell_type": "code",
      "metadata": {
        "id": "9dn8ugGsplb-"
      },
      "source": [
        "#from google sheets, all missing observations were replaced with zero\n",
        "#we are now removing all missing observations, knowing that we are not removing \n",
        "#anything that is actually zero because there are no zeros as price observations\n",
        "df = df[(df != 0).all(1)]"
      ],
      "execution_count": 243,
      "outputs": []
    },
    {
      "cell_type": "code",
      "metadata": {
        "id": "_2qKw4dCaPGb",
        "outputId": "4195c6cf-377e-4a16-d84b-55413ef1b92c",
        "colab": {
          "base_uri": "https://localhost:8080/",
          "height": 419
        }
      },
      "source": [
        "df"
      ],
      "execution_count": 244,
      "outputs": [
        {
          "output_type": "execute_result",
          "data": {
            "text/html": [
              "<div>\n",
              "<style scoped>\n",
              "    .dataframe tbody tr th:only-of-type {\n",
              "        vertical-align: middle;\n",
              "    }\n",
              "\n",
              "    .dataframe tbody tr th {\n",
              "        vertical-align: top;\n",
              "    }\n",
              "\n",
              "    .dataframe thead th {\n",
              "        text-align: right;\n",
              "    }\n",
              "</style>\n",
              "<table border=\"1\" class=\"dataframe\">\n",
              "  <thead>\n",
              "    <tr style=\"text-align: right;\">\n",
              "      <th></th>\n",
              "      <th>country</th>\n",
              "      <th>store</th>\n",
              "      <th>perception</th>\n",
              "      <th>rent</th>\n",
              "      <th>price</th>\n",
              "      <th>product</th>\n",
              "      <th>perception_code</th>\n",
              "      <th>country_code</th>\n",
              "    </tr>\n",
              "  </thead>\n",
              "  <tbody>\n",
              "    <tr>\n",
              "      <th>0</th>\n",
              "      <td>Germany</td>\n",
              "      <td>EDEKA</td>\n",
              "      <td>Mid-range</td>\n",
              "      <td>1071.0</td>\n",
              "      <td>3.486700</td>\n",
              "      <td>1</td>\n",
              "      <td>3</td>\n",
              "      <td>1</td>\n",
              "    </tr>\n",
              "    <tr>\n",
              "      <th>1</th>\n",
              "      <td>Germany</td>\n",
              "      <td>EDEKA</td>\n",
              "      <td>Mid-range</td>\n",
              "      <td>1071.0</td>\n",
              "      <td>1.915900</td>\n",
              "      <td>1</td>\n",
              "      <td>3</td>\n",
              "      <td>1</td>\n",
              "    </tr>\n",
              "    <tr>\n",
              "      <th>2</th>\n",
              "      <td>Germany</td>\n",
              "      <td>EDEKA</td>\n",
              "      <td>Mid-range</td>\n",
              "      <td>1071.0</td>\n",
              "      <td>2.082500</td>\n",
              "      <td>1</td>\n",
              "      <td>3</td>\n",
              "      <td>1</td>\n",
              "    </tr>\n",
              "    <tr>\n",
              "      <th>3</th>\n",
              "      <td>Germany</td>\n",
              "      <td>EDEKA</td>\n",
              "      <td>Mid-range</td>\n",
              "      <td>1071.0</td>\n",
              "      <td>2.058700</td>\n",
              "      <td>2</td>\n",
              "      <td>3</td>\n",
              "      <td>1</td>\n",
              "    </tr>\n",
              "    <tr>\n",
              "      <th>4</th>\n",
              "      <td>Germany</td>\n",
              "      <td>EDEKA</td>\n",
              "      <td>Mid-range</td>\n",
              "      <td>1071.0</td>\n",
              "      <td>2.058700</td>\n",
              "      <td>2</td>\n",
              "      <td>3</td>\n",
              "      <td>1</td>\n",
              "    </tr>\n",
              "    <tr>\n",
              "      <th>...</th>\n",
              "      <td>...</td>\n",
              "      <td>...</td>\n",
              "      <td>...</td>\n",
              "      <td>...</td>\n",
              "      <td>...</td>\n",
              "      <td>...</td>\n",
              "      <td>...</td>\n",
              "      <td>...</td>\n",
              "    </tr>\n",
              "    <tr>\n",
              "      <th>1915</th>\n",
              "      <td>Vietnam</td>\n",
              "      <td>Chung cu</td>\n",
              "      <td>Mid-range</td>\n",
              "      <td>500.0</td>\n",
              "      <td>0.111667</td>\n",
              "      <td>9</td>\n",
              "      <td>3</td>\n",
              "      <td>7</td>\n",
              "    </tr>\n",
              "    <tr>\n",
              "      <th>1916</th>\n",
              "      <td>Vietnam</td>\n",
              "      <td>Chung cu</td>\n",
              "      <td>Mid-range</td>\n",
              "      <td>500.0</td>\n",
              "      <td>0.111667</td>\n",
              "      <td>9</td>\n",
              "      <td>3</td>\n",
              "      <td>7</td>\n",
              "    </tr>\n",
              "    <tr>\n",
              "      <th>1917</th>\n",
              "      <td>Vietnam</td>\n",
              "      <td>Chung cu</td>\n",
              "      <td>Mid-range</td>\n",
              "      <td>500.0</td>\n",
              "      <td>4.480000</td>\n",
              "      <td>10</td>\n",
              "      <td>3</td>\n",
              "      <td>7</td>\n",
              "    </tr>\n",
              "    <tr>\n",
              "      <th>1918</th>\n",
              "      <td>Vietnam</td>\n",
              "      <td>Chung cu</td>\n",
              "      <td>Mid-range</td>\n",
              "      <td>500.0</td>\n",
              "      <td>3.800000</td>\n",
              "      <td>10</td>\n",
              "      <td>3</td>\n",
              "      <td>7</td>\n",
              "    </tr>\n",
              "    <tr>\n",
              "      <th>1919</th>\n",
              "      <td>Vietnam</td>\n",
              "      <td>Chung cu</td>\n",
              "      <td>Mid-range</td>\n",
              "      <td>500.0</td>\n",
              "      <td>4.660000</td>\n",
              "      <td>10</td>\n",
              "      <td>3</td>\n",
              "      <td>7</td>\n",
              "    </tr>\n",
              "  </tbody>\n",
              "</table>\n",
              "<p>1761 rows × 8 columns</p>\n",
              "</div>"
            ],
            "text/plain": [
              "      country     store perception  ...  product  perception_code country_code\n",
              "0     Germany     EDEKA  Mid-range  ...        1                3            1\n",
              "1     Germany     EDEKA  Mid-range  ...        1                3            1\n",
              "2     Germany     EDEKA  Mid-range  ...        1                3            1\n",
              "3     Germany     EDEKA  Mid-range  ...        2                3            1\n",
              "4     Germany     EDEKA  Mid-range  ...        2                3            1\n",
              "...       ...       ...        ...  ...      ...              ...          ...\n",
              "1915  Vietnam  Chung cu  Mid-range  ...        9                3            7\n",
              "1916  Vietnam  Chung cu  Mid-range  ...        9                3            7\n",
              "1917  Vietnam  Chung cu  Mid-range  ...       10                3            7\n",
              "1918  Vietnam  Chung cu  Mid-range  ...       10                3            7\n",
              "1919  Vietnam  Chung cu  Mid-range  ...       10                3            7\n",
              "\n",
              "[1761 rows x 8 columns]"
            ]
          },
          "metadata": {
            "tags": []
          },
          "execution_count": 244
        }
      ]
    },
    {
      "cell_type": "code",
      "metadata": {
        "id": "HDP5nEXA_2bc"
      },
      "source": [
        "df_cleancopy=df"
      ],
      "execution_count": 245,
      "outputs": []
    },
    {
      "cell_type": "code",
      "metadata": {
        "id": "44VQbmJaCSUb",
        "outputId": "93f443fc-3ce6-40c6-b6a4-a760683e71f2",
        "colab": {
          "base_uri": "https://localhost:8080/"
        }
      },
      "source": [
        "#checking that we have no zeroes in our data\n",
        "np.min(df.price)"
      ],
      "execution_count": 246,
      "outputs": [
        {
          "output_type": "execute_result",
          "data": {
            "text/plain": [
              "0.00143"
            ]
          },
          "metadata": {
            "tags": []
          },
          "execution_count": 246
        }
      ]
    },
    {
      "cell_type": "code",
      "metadata": {
        "id": "xucjbqo3j2ia",
        "outputId": "3d7642cc-824e-49c0-adcc-549f9450d99c",
        "colab": {
          "base_uri": "https://localhost:8080/"
        }
      },
      "source": [
        "#the product column was made from strings, we make it all integers \n",
        "df['product'] = df['product'].apply(lambda x: int(x))"
      ],
      "execution_count": 247,
      "outputs": [
        {
          "output_type": "stream",
          "text": [
            "/usr/local/lib/python3.6/dist-packages/ipykernel_launcher.py:2: SettingWithCopyWarning: \n",
            "A value is trying to be set on a copy of a slice from a DataFrame.\n",
            "Try using .loc[row_indexer,col_indexer] = value instead\n",
            "\n",
            "See the caveats in the documentation: https://pandas.pydata.org/pandas-docs/stable/user_guide/indexing.html#returning-a-view-versus-a-copy\n",
            "  \n"
          ],
          "name": "stderr"
        }
      ]
    },
    {
      "cell_type": "code",
      "metadata": {
        "id": "Db-jBbRmkJVd",
        "outputId": "0cf36a4a-5b71-4c33-b0d4-ccfc42e1ba6b",
        "colab": {
          "base_uri": "https://localhost:8080/"
        }
      },
      "source": [
        "df['product'].values"
      ],
      "execution_count": 248,
      "outputs": [
        {
          "output_type": "execute_result",
          "data": {
            "text/plain": [
              "array([ 1,  1,  1, ..., 10, 10, 10])"
            ]
          },
          "metadata": {
            "tags": []
          },
          "execution_count": 248
        }
      ]
    },
    {
      "cell_type": "markdown",
      "metadata": {
        "id": "bjyTrXKzuBFB"
      },
      "source": [
        "Plotting the data to look at the range of prices and outliers. "
      ]
    },
    {
      "cell_type": "code",
      "metadata": {
        "id": "pwgM5-EMqCWV",
        "outputId": "b153d9c3-5949-471c-b1be-162b4bc4d50a",
        "colab": {
          "base_uri": "https://localhost:8080/",
          "height": 499
        }
      },
      "source": [
        "products=['Apples','Bananas','Tomatoes','Potatoes','Flour','Rice','Milk','Butter','Eggs','Chicken']\n",
        "prods=[1,2,3,4,5,6,7,8,9,10]\n",
        "mins=[]\n",
        "maxs=[]\n",
        "fig, axs = plt.subplots(2, 5, figsize=(21,8))\n",
        "x=0\n",
        "for line in range(2):\n",
        "  for el in range(5):\n",
        "    axs[line,el].plot(df.loc[df['product'] == prods[x]]['price'], color='darkgreen')  \n",
        "    mins.append(np.min(df.loc[df['product'] == prods[x]]['price']))\n",
        "    maxs.append(np.max(df.loc[df['product'] == prods[x]]['price']))\n",
        "    #print(x)\n",
        "    axs[line,el].set_xlabel(products[x])\n",
        "    axs[line,el].set_ylabel('Price (USD)')\n",
        "    x=x+1\n",
        "  x=5"
      ],
      "execution_count": 249,
      "outputs": [
        {
          "output_type": "display_data",
          "data": {
            "image/png": "[encoded data removed]",
            "text/plain": [
              "<Figure size 1512x576 with 10 Axes>"
            ]
          },
          "metadata": {
            "tags": [],
            "needs_background": "light"
          }
        }
      ]
    },
    {
      "cell_type": "markdown",
      "metadata": {
        "id": "6ky3udvMusSN"
      },
      "source": [
        "As we can see there are some very extreme outliers, my guess is there are due to errors when plugging data collected into the form. It will be really hard to go through all of the outliers and remove them, and removing data is also adding bias to the analysis, so I will try my best to remove those that are completely unrealistic and that in my opinion are probably due to error. \n"
      ]
    },
    {
      "cell_type": "code",
      "metadata": {
        "id": "njdzRs3CJjen",
        "outputId": "41d4f4e3-9a3d-4f91-e92f-be8c7b92b6d6",
        "colab": {
          "base_uri": "https://localhost:8080/"
        }
      },
      "source": [
        "print('Mins:',mins)\n",
        "print('Maxs:',maxs)"
      ],
      "execution_count": 250,
      "outputs": [
        {
          "output_type": "stream",
          "text": [
            "Mins: [0.2725450902, 0.3044244295, 0.605, 0.4648933333, 0.40645, 0.00143, 0.5814977974000001, 0.012208695649999999, 0.0275, 1.42727385]\n",
            "Maxs: [19.8, 96.36, 15.9844, 8.866666667, 74.844, 11.62233333, 107.448, 30.96, 43.956, 39.150999999999996]\n"
          ],
          "name": "stdout"
        }
      ]
    },
    {
      "cell_type": "code",
      "metadata": {
        "id": "O_vJLtdBunVx",
        "outputId": "b8798b97-8556-4cac-e359-1e0e5d9993ac",
        "colab": {
          "base_uri": "https://localhost:8080/",
          "height": 80
        }
      },
      "source": [
        "#I am removing this price for bananas because it is just unrealistic, and because there are also other observations from Sainsbury's that have bananas, and are nowhere near 96.36 USD\n",
        "df.loc[df['price'] == 96.36]"
      ],
      "execution_count": 251,
      "outputs": [
        {
          "output_type": "execute_result",
          "data": {
            "text/html": [
              "<div>\n",
              "<style scoped>\n",
              "    .dataframe tbody tr th:only-of-type {\n",
              "        vertical-align: middle;\n",
              "    }\n",
              "\n",
              "    .dataframe tbody tr th {\n",
              "        vertical-align: top;\n",
              "    }\n",
              "\n",
              "    .dataframe thead th {\n",
              "        text-align: right;\n",
              "    }\n",
              "</style>\n",
              "<table border=\"1\" class=\"dataframe\">\n",
              "  <thead>\n",
              "    <tr style=\"text-align: right;\">\n",
              "      <th></th>\n",
              "      <th>country</th>\n",
              "      <th>store</th>\n",
              "      <th>perception</th>\n",
              "      <th>rent</th>\n",
              "      <th>price</th>\n",
              "      <th>product</th>\n",
              "      <th>perception_code</th>\n",
              "      <th>country_code</th>\n",
              "    </tr>\n",
              "  </thead>\n",
              "  <tbody>\n",
              "    <tr>\n",
              "      <th>873</th>\n",
              "      <td>UK</td>\n",
              "      <td>Sainsburys</td>\n",
              "      <td>Mid-range</td>\n",
              "      <td>1030.92</td>\n",
              "      <td>96.36</td>\n",
              "      <td>2</td>\n",
              "      <td>3</td>\n",
              "      <td>5</td>\n",
              "    </tr>\n",
              "  </tbody>\n",
              "</table>\n",
              "</div>"
            ],
            "text/plain": [
              "    country       store perception  ...  product  perception_code  country_code\n",
              "873      UK  Sainsburys  Mid-range  ...        2                3             5\n",
              "\n",
              "[1 rows x 8 columns]"
            ]
          },
          "metadata": {
            "tags": []
          },
          "execution_count": 251
        }
      ]
    },
    {
      "cell_type": "code",
      "metadata": {
        "id": "nImVA4goyPRD",
        "outputId": "a61da500-bb4f-4b7b-f1e9-e1cba8f2e3ed",
        "colab": {
          "base_uri": "https://localhost:8080/",
          "height": 235
        }
      },
      "source": [
        "df.loc[870:875]"
      ],
      "execution_count": 252,
      "outputs": [
        {
          "output_type": "execute_result",
          "data": {
            "text/html": [
              "<div>\n",
              "<style scoped>\n",
              "    .dataframe tbody tr th:only-of-type {\n",
              "        vertical-align: middle;\n",
              "    }\n",
              "\n",
              "    .dataframe tbody tr th {\n",
              "        vertical-align: top;\n",
              "    }\n",
              "\n",
              "    .dataframe thead th {\n",
              "        text-align: right;\n",
              "    }\n",
              "</style>\n",
              "<table border=\"1\" class=\"dataframe\">\n",
              "  <thead>\n",
              "    <tr style=\"text-align: right;\">\n",
              "      <th></th>\n",
              "      <th>country</th>\n",
              "      <th>store</th>\n",
              "      <th>perception</th>\n",
              "      <th>rent</th>\n",
              "      <th>price</th>\n",
              "      <th>product</th>\n",
              "      <th>perception_code</th>\n",
              "      <th>country_code</th>\n",
              "    </tr>\n",
              "  </thead>\n",
              "  <tbody>\n",
              "    <tr>\n",
              "      <th>870</th>\n",
              "      <td>UK</td>\n",
              "      <td>Sainsburys</td>\n",
              "      <td>Mid-range</td>\n",
              "      <td>1030.92</td>\n",
              "      <td>12.672000</td>\n",
              "      <td>1</td>\n",
              "      <td>3</td>\n",
              "      <td>5</td>\n",
              "    </tr>\n",
              "    <tr>\n",
              "      <th>871</th>\n",
              "      <td>UK</td>\n",
              "      <td>Sainsburys</td>\n",
              "      <td>Mid-range</td>\n",
              "      <td>1030.92</td>\n",
              "      <td>12.672000</td>\n",
              "      <td>1</td>\n",
              "      <td>3</td>\n",
              "      <td>5</td>\n",
              "    </tr>\n",
              "    <tr>\n",
              "      <th>872</th>\n",
              "      <td>UK</td>\n",
              "      <td>Sainsburys</td>\n",
              "      <td>Mid-range</td>\n",
              "      <td>1030.92</td>\n",
              "      <td>19.800000</td>\n",
              "      <td>1</td>\n",
              "      <td>3</td>\n",
              "      <td>5</td>\n",
              "    </tr>\n",
              "    <tr>\n",
              "      <th>873</th>\n",
              "      <td>UK</td>\n",
              "      <td>Sainsburys</td>\n",
              "      <td>Mid-range</td>\n",
              "      <td>1030.92</td>\n",
              "      <td>96.360000</td>\n",
              "      <td>2</td>\n",
              "      <td>3</td>\n",
              "      <td>5</td>\n",
              "    </tr>\n",
              "    <tr>\n",
              "      <th>874</th>\n",
              "      <td>UK</td>\n",
              "      <td>Sainsburys</td>\n",
              "      <td>Mid-range</td>\n",
              "      <td>1030.92</td>\n",
              "      <td>2.346667</td>\n",
              "      <td>2</td>\n",
              "      <td>3</td>\n",
              "      <td>5</td>\n",
              "    </tr>\n",
              "    <tr>\n",
              "      <th>875</th>\n",
              "      <td>UK</td>\n",
              "      <td>Sainsburys</td>\n",
              "      <td>Mid-range</td>\n",
              "      <td>1030.92</td>\n",
              "      <td>2.904000</td>\n",
              "      <td>2</td>\n",
              "      <td>3</td>\n",
              "      <td>5</td>\n",
              "    </tr>\n",
              "  </tbody>\n",
              "</table>\n",
              "</div>"
            ],
            "text/plain": [
              "    country       store perception  ...  product  perception_code  country_code\n",
              "870      UK  Sainsburys  Mid-range  ...        1                3             5\n",
              "871      UK  Sainsburys  Mid-range  ...        1                3             5\n",
              "872      UK  Sainsburys  Mid-range  ...        1                3             5\n",
              "873      UK  Sainsburys  Mid-range  ...        2                3             5\n",
              "874      UK  Sainsburys  Mid-range  ...        2                3             5\n",
              "875      UK  Sainsburys  Mid-range  ...        2                3             5\n",
              "\n",
              "[6 rows x 8 columns]"
            ]
          },
          "metadata": {
            "tags": []
          },
          "execution_count": 252
        }
      ]
    },
    {
      "cell_type": "code",
      "metadata": {
        "id": "rRBBNxtwDXqC"
      },
      "source": [
        "df=df.drop(873)"
      ],
      "execution_count": 253,
      "outputs": []
    },
    {
      "cell_type": "code",
      "metadata": {
        "id": "hC0WCX43yTg_",
        "outputId": "8f5c813e-09aa-4932-8fca-16412adaa80c",
        "colab": {
          "base_uri": "https://localhost:8080/",
          "height": 204
        }
      },
      "source": [
        "df.loc[870:875]"
      ],
      "execution_count": 254,
      "outputs": [
        {
          "output_type": "execute_result",
          "data": {
            "text/html": [
              "<div>\n",
              "<style scoped>\n",
              "    .dataframe tbody tr th:only-of-type {\n",
              "        vertical-align: middle;\n",
              "    }\n",
              "\n",
              "    .dataframe tbody tr th {\n",
              "        vertical-align: top;\n",
              "    }\n",
              "\n",
              "    .dataframe thead th {\n",
              "        text-align: right;\n",
              "    }\n",
              "</style>\n",
              "<table border=\"1\" class=\"dataframe\">\n",
              "  <thead>\n",
              "    <tr style=\"text-align: right;\">\n",
              "      <th></th>\n",
              "      <th>country</th>\n",
              "      <th>store</th>\n",
              "      <th>perception</th>\n",
              "      <th>rent</th>\n",
              "      <th>price</th>\n",
              "      <th>product</th>\n",
              "      <th>perception_code</th>\n",
              "      <th>country_code</th>\n",
              "    </tr>\n",
              "  </thead>\n",
              "  <tbody>\n",
              "    <tr>\n",
              "      <th>870</th>\n",
              "      <td>UK</td>\n",
              "      <td>Sainsburys</td>\n",
              "      <td>Mid-range</td>\n",
              "      <td>1030.92</td>\n",
              "      <td>12.672000</td>\n",
              "      <td>1</td>\n",
              "      <td>3</td>\n",
              "      <td>5</td>\n",
              "    </tr>\n",
              "    <tr>\n",
              "      <th>871</th>\n",
              "      <td>UK</td>\n",
              "      <td>Sainsburys</td>\n",
              "      <td>Mid-range</td>\n",
              "      <td>1030.92</td>\n",
              "      <td>12.672000</td>\n",
              "      <td>1</td>\n",
              "      <td>3</td>\n",
              "      <td>5</td>\n",
              "    </tr>\n",
              "    <tr>\n",
              "      <th>872</th>\n",
              "      <td>UK</td>\n",
              "      <td>Sainsburys</td>\n",
              "      <td>Mid-range</td>\n",
              "      <td>1030.92</td>\n",
              "      <td>19.800000</td>\n",
              "      <td>1</td>\n",
              "      <td>3</td>\n",
              "      <td>5</td>\n",
              "    </tr>\n",
              "    <tr>\n",
              "      <th>874</th>\n",
              "      <td>UK</td>\n",
              "      <td>Sainsburys</td>\n",
              "      <td>Mid-range</td>\n",
              "      <td>1030.92</td>\n",
              "      <td>2.346667</td>\n",
              "      <td>2</td>\n",
              "      <td>3</td>\n",
              "      <td>5</td>\n",
              "    </tr>\n",
              "    <tr>\n",
              "      <th>875</th>\n",
              "      <td>UK</td>\n",
              "      <td>Sainsburys</td>\n",
              "      <td>Mid-range</td>\n",
              "      <td>1030.92</td>\n",
              "      <td>2.904000</td>\n",
              "      <td>2</td>\n",
              "      <td>3</td>\n",
              "      <td>5</td>\n",
              "    </tr>\n",
              "  </tbody>\n",
              "</table>\n",
              "</div>"
            ],
            "text/plain": [
              "    country       store perception  ...  product  perception_code  country_code\n",
              "870      UK  Sainsburys  Mid-range  ...        1                3             5\n",
              "871      UK  Sainsburys  Mid-range  ...        1                3             5\n",
              "872      UK  Sainsburys  Mid-range  ...        1                3             5\n",
              "874      UK  Sainsburys  Mid-range  ...        2                3             5\n",
              "875      UK  Sainsburys  Mid-range  ...        2                3             5\n",
              "\n",
              "[5 rows x 8 columns]"
            ]
          },
          "metadata": {
            "tags": []
          },
          "execution_count": 254
        }
      ]
    },
    {
      "cell_type": "code",
      "metadata": {
        "id": "wsn5XD_GvzMG",
        "outputId": "d9b894b3-c112-4fa2-966b-febfe567566e",
        "colab": {
          "base_uri": "https://localhost:8080/",
          "height": 80
        }
      },
      "source": [
        "#also removing this price for flour from Waitrose\n",
        "df.loc[df['price'] == 74.844]"
      ],
      "execution_count": 255,
      "outputs": [
        {
          "output_type": "execute_result",
          "data": {
            "text/html": [
              "<div>\n",
              "<style scoped>\n",
              "    .dataframe tbody tr th:only-of-type {\n",
              "        vertical-align: middle;\n",
              "    }\n",
              "\n",
              "    .dataframe tbody tr th {\n",
              "        vertical-align: top;\n",
              "    }\n",
              "\n",
              "    .dataframe thead th {\n",
              "        text-align: right;\n",
              "    }\n",
              "</style>\n",
              "<table border=\"1\" class=\"dataframe\">\n",
              "  <thead>\n",
              "    <tr style=\"text-align: right;\">\n",
              "      <th></th>\n",
              "      <th>country</th>\n",
              "      <th>store</th>\n",
              "      <th>perception</th>\n",
              "      <th>rent</th>\n",
              "      <th>price</th>\n",
              "      <th>product</th>\n",
              "      <th>perception_code</th>\n",
              "      <th>country_code</th>\n",
              "    </tr>\n",
              "  </thead>\n",
              "  <tbody>\n",
              "    <tr>\n",
              "      <th>1272</th>\n",
              "      <td>UK</td>\n",
              "      <td>Waitrose</td>\n",
              "      <td>Luxury (expensive)</td>\n",
              "      <td>3003.0</td>\n",
              "      <td>74.844</td>\n",
              "      <td>5</td>\n",
              "      <td>2</td>\n",
              "      <td>5</td>\n",
              "    </tr>\n",
              "  </tbody>\n",
              "</table>\n",
              "</div>"
            ],
            "text/plain": [
              "     country     store  ... perception_code  country_code\n",
              "1272      UK  Waitrose  ...               2             5\n",
              "\n",
              "[1 rows x 8 columns]"
            ]
          },
          "metadata": {
            "tags": []
          },
          "execution_count": 255
        }
      ]
    },
    {
      "cell_type": "code",
      "metadata": {
        "id": "_F7bSQRyy1VY",
        "outputId": "32d9b77f-c3cb-4bb4-a672-c08a63571379",
        "colab": {
          "base_uri": "https://localhost:8080/",
          "height": 266
        }
      },
      "source": [
        "df.loc[1269:1275]"
      ],
      "execution_count": 256,
      "outputs": [
        {
          "output_type": "execute_result",
          "data": {
            "text/html": [
              "<div>\n",
              "<style scoped>\n",
              "    .dataframe tbody tr th:only-of-type {\n",
              "        vertical-align: middle;\n",
              "    }\n",
              "\n",
              "    .dataframe tbody tr th {\n",
              "        vertical-align: top;\n",
              "    }\n",
              "\n",
              "    .dataframe thead th {\n",
              "        text-align: right;\n",
              "    }\n",
              "</style>\n",
              "<table border=\"1\" class=\"dataframe\">\n",
              "  <thead>\n",
              "    <tr style=\"text-align: right;\">\n",
              "      <th></th>\n",
              "      <th>country</th>\n",
              "      <th>store</th>\n",
              "      <th>perception</th>\n",
              "      <th>rent</th>\n",
              "      <th>price</th>\n",
              "      <th>product</th>\n",
              "      <th>perception_code</th>\n",
              "      <th>country_code</th>\n",
              "    </tr>\n",
              "  </thead>\n",
              "  <tbody>\n",
              "    <tr>\n",
              "      <th>1269</th>\n",
              "      <td>UK</td>\n",
              "      <td>Waitrose</td>\n",
              "      <td>Luxury (expensive)</td>\n",
              "      <td>3003.0</td>\n",
              "      <td>3.9600</td>\n",
              "      <td>4</td>\n",
              "      <td>2</td>\n",
              "      <td>5</td>\n",
              "    </tr>\n",
              "    <tr>\n",
              "      <th>1270</th>\n",
              "      <td>UK</td>\n",
              "      <td>Waitrose</td>\n",
              "      <td>Luxury (expensive)</td>\n",
              "      <td>3003.0</td>\n",
              "      <td>3.1680</td>\n",
              "      <td>4</td>\n",
              "      <td>2</td>\n",
              "      <td>5</td>\n",
              "    </tr>\n",
              "    <tr>\n",
              "      <th>1271</th>\n",
              "      <td>UK</td>\n",
              "      <td>Waitrose</td>\n",
              "      <td>Luxury (expensive)</td>\n",
              "      <td>3003.0</td>\n",
              "      <td>5.2800</td>\n",
              "      <td>4</td>\n",
              "      <td>2</td>\n",
              "      <td>5</td>\n",
              "    </tr>\n",
              "    <tr>\n",
              "      <th>1272</th>\n",
              "      <td>UK</td>\n",
              "      <td>Waitrose</td>\n",
              "      <td>Luxury (expensive)</td>\n",
              "      <td>3003.0</td>\n",
              "      <td>74.8440</td>\n",
              "      <td>5</td>\n",
              "      <td>2</td>\n",
              "      <td>5</td>\n",
              "    </tr>\n",
              "    <tr>\n",
              "      <th>1273</th>\n",
              "      <td>UK</td>\n",
              "      <td>Waitrose</td>\n",
              "      <td>Luxury (expensive)</td>\n",
              "      <td>3003.0</td>\n",
              "      <td>1.5840</td>\n",
              "      <td>5</td>\n",
              "      <td>2</td>\n",
              "      <td>5</td>\n",
              "    </tr>\n",
              "    <tr>\n",
              "      <th>1274</th>\n",
              "      <td>UK</td>\n",
              "      <td>Waitrose</td>\n",
              "      <td>Luxury (expensive)</td>\n",
              "      <td>3003.0</td>\n",
              "      <td>0.8844</td>\n",
              "      <td>5</td>\n",
              "      <td>2</td>\n",
              "      <td>5</td>\n",
              "    </tr>\n",
              "    <tr>\n",
              "      <th>1275</th>\n",
              "      <td>UK</td>\n",
              "      <td>Waitrose</td>\n",
              "      <td>Luxury (expensive)</td>\n",
              "      <td>3003.0</td>\n",
              "      <td>2.1120</td>\n",
              "      <td>6</td>\n",
              "      <td>2</td>\n",
              "      <td>5</td>\n",
              "    </tr>\n",
              "  </tbody>\n",
              "</table>\n",
              "</div>"
            ],
            "text/plain": [
              "     country     store  ... perception_code  country_code\n",
              "1269      UK  Waitrose  ...               2             5\n",
              "1270      UK  Waitrose  ...               2             5\n",
              "1271      UK  Waitrose  ...               2             5\n",
              "1272      UK  Waitrose  ...               2             5\n",
              "1273      UK  Waitrose  ...               2             5\n",
              "1274      UK  Waitrose  ...               2             5\n",
              "1275      UK  Waitrose  ...               2             5\n",
              "\n",
              "[7 rows x 8 columns]"
            ]
          },
          "metadata": {
            "tags": []
          },
          "execution_count": 256
        }
      ]
    },
    {
      "cell_type": "code",
      "metadata": {
        "id": "RjCn9WjxwCBw"
      },
      "source": [
        "df=df.drop(1272)"
      ],
      "execution_count": 257,
      "outputs": []
    },
    {
      "cell_type": "code",
      "metadata": {
        "id": "L3QzzncgwCEB",
        "outputId": "52f2be0e-caaf-4de9-b103-f693dcbb5af3",
        "colab": {
          "base_uri": "https://localhost:8080/",
          "height": 80
        }
      },
      "source": [
        "#Taking out two milk outliers (107 and 66 USD)\n",
        "df.loc[df['price'] == 107.448]"
      ],
      "execution_count": 258,
      "outputs": [
        {
          "output_type": "execute_result",
          "data": {
            "text/html": [
              "<div>\n",
              "<style scoped>\n",
              "    .dataframe tbody tr th:only-of-type {\n",
              "        vertical-align: middle;\n",
              "    }\n",
              "\n",
              "    .dataframe tbody tr th {\n",
              "        vertical-align: top;\n",
              "    }\n",
              "\n",
              "    .dataframe thead th {\n",
              "        text-align: right;\n",
              "    }\n",
              "</style>\n",
              "<table border=\"1\" class=\"dataframe\">\n",
              "  <thead>\n",
              "    <tr style=\"text-align: right;\">\n",
              "      <th></th>\n",
              "      <th>country</th>\n",
              "      <th>store</th>\n",
              "      <th>perception</th>\n",
              "      <th>rent</th>\n",
              "      <th>price</th>\n",
              "      <th>product</th>\n",
              "      <th>perception_code</th>\n",
              "      <th>country_code</th>\n",
              "    </tr>\n",
              "  </thead>\n",
              "  <tbody>\n",
              "    <tr>\n",
              "      <th>1250</th>\n",
              "      <td>UK</td>\n",
              "      <td>Waitrose</td>\n",
              "      <td>Luxury (expensive)</td>\n",
              "      <td>3718.44</td>\n",
              "      <td>107.448</td>\n",
              "      <td>7</td>\n",
              "      <td>2</td>\n",
              "      <td>5</td>\n",
              "    </tr>\n",
              "  </tbody>\n",
              "</table>\n",
              "</div>"
            ],
            "text/plain": [
              "     country     store  ... perception_code  country_code\n",
              "1250      UK  Waitrose  ...               2             5\n",
              "\n",
              "[1 rows x 8 columns]"
            ]
          },
          "metadata": {
            "tags": []
          },
          "execution_count": 258
        }
      ]
    },
    {
      "cell_type": "code",
      "metadata": {
        "id": "8vpAXdoQwCGW",
        "outputId": "d7ccd94d-8c6d-49d3-e16b-915a70cee09a",
        "colab": {
          "base_uri": "https://localhost:8080/",
          "height": 452
        }
      },
      "source": [
        "df.loc[1245:1257]"
      ],
      "execution_count": 259,
      "outputs": [
        {
          "output_type": "execute_result",
          "data": {
            "text/html": [
              "<div>\n",
              "<style scoped>\n",
              "    .dataframe tbody tr th:only-of-type {\n",
              "        vertical-align: middle;\n",
              "    }\n",
              "\n",
              "    .dataframe tbody tr th {\n",
              "        vertical-align: top;\n",
              "    }\n",
              "\n",
              "    .dataframe thead th {\n",
              "        text-align: right;\n",
              "    }\n",
              "</style>\n",
              "<table border=\"1\" class=\"dataframe\">\n",
              "  <thead>\n",
              "    <tr style=\"text-align: right;\">\n",
              "      <th></th>\n",
              "      <th>country</th>\n",
              "      <th>store</th>\n",
              "      <th>perception</th>\n",
              "      <th>rent</th>\n",
              "      <th>price</th>\n",
              "      <th>product</th>\n",
              "      <th>perception_code</th>\n",
              "      <th>country_code</th>\n",
              "    </tr>\n",
              "  </thead>\n",
              "  <tbody>\n",
              "    <tr>\n",
              "      <th>1245</th>\n",
              "      <td>UK</td>\n",
              "      <td>Waitrose</td>\n",
              "      <td>Luxury (expensive)</td>\n",
              "      <td>3718.44</td>\n",
              "      <td>4.488</td>\n",
              "      <td>6</td>\n",
              "      <td>2</td>\n",
              "      <td>5</td>\n",
              "    </tr>\n",
              "    <tr>\n",
              "      <th>1246</th>\n",
              "      <td>UK</td>\n",
              "      <td>Waitrose</td>\n",
              "      <td>Luxury (expensive)</td>\n",
              "      <td>3718.44</td>\n",
              "      <td>7.260</td>\n",
              "      <td>6</td>\n",
              "      <td>2</td>\n",
              "      <td>5</td>\n",
              "    </tr>\n",
              "    <tr>\n",
              "      <th>1247</th>\n",
              "      <td>UK</td>\n",
              "      <td>Waitrose</td>\n",
              "      <td>Luxury (expensive)</td>\n",
              "      <td>3718.44</td>\n",
              "      <td>3.960</td>\n",
              "      <td>6</td>\n",
              "      <td>2</td>\n",
              "      <td>5</td>\n",
              "    </tr>\n",
              "    <tr>\n",
              "      <th>1248</th>\n",
              "      <td>UK</td>\n",
              "      <td>Waitrose</td>\n",
              "      <td>Luxury (expensive)</td>\n",
              "      <td>3718.44</td>\n",
              "      <td>66.792</td>\n",
              "      <td>7</td>\n",
              "      <td>2</td>\n",
              "      <td>5</td>\n",
              "    </tr>\n",
              "    <tr>\n",
              "      <th>1249</th>\n",
              "      <td>UK</td>\n",
              "      <td>Waitrose</td>\n",
              "      <td>Luxury (expensive)</td>\n",
              "      <td>3718.44</td>\n",
              "      <td>1.518</td>\n",
              "      <td>7</td>\n",
              "      <td>2</td>\n",
              "      <td>5</td>\n",
              "    </tr>\n",
              "    <tr>\n",
              "      <th>1250</th>\n",
              "      <td>UK</td>\n",
              "      <td>Waitrose</td>\n",
              "      <td>Luxury (expensive)</td>\n",
              "      <td>3718.44</td>\n",
              "      <td>107.448</td>\n",
              "      <td>7</td>\n",
              "      <td>2</td>\n",
              "      <td>5</td>\n",
              "    </tr>\n",
              "    <tr>\n",
              "      <th>1251</th>\n",
              "      <td>UK</td>\n",
              "      <td>Waitrose</td>\n",
              "      <td>Luxury (expensive)</td>\n",
              "      <td>3718.44</td>\n",
              "      <td>10.560</td>\n",
              "      <td>8</td>\n",
              "      <td>2</td>\n",
              "      <td>5</td>\n",
              "    </tr>\n",
              "    <tr>\n",
              "      <th>1252</th>\n",
              "      <td>UK</td>\n",
              "      <td>Waitrose</td>\n",
              "      <td>Luxury (expensive)</td>\n",
              "      <td>3718.44</td>\n",
              "      <td>8.976</td>\n",
              "      <td>8</td>\n",
              "      <td>2</td>\n",
              "      <td>5</td>\n",
              "    </tr>\n",
              "    <tr>\n",
              "      <th>1253</th>\n",
              "      <td>UK</td>\n",
              "      <td>Waitrose</td>\n",
              "      <td>Luxury (expensive)</td>\n",
              "      <td>3718.44</td>\n",
              "      <td>7.920</td>\n",
              "      <td>8</td>\n",
              "      <td>2</td>\n",
              "      <td>5</td>\n",
              "    </tr>\n",
              "    <tr>\n",
              "      <th>1254</th>\n",
              "      <td>UK</td>\n",
              "      <td>Waitrose</td>\n",
              "      <td>Luxury (expensive)</td>\n",
              "      <td>3718.44</td>\n",
              "      <td>43.956</td>\n",
              "      <td>9</td>\n",
              "      <td>2</td>\n",
              "      <td>5</td>\n",
              "    </tr>\n",
              "    <tr>\n",
              "      <th>1255</th>\n",
              "      <td>UK</td>\n",
              "      <td>Waitrose</td>\n",
              "      <td>Luxury (expensive)</td>\n",
              "      <td>3718.44</td>\n",
              "      <td>29.700</td>\n",
              "      <td>9</td>\n",
              "      <td>2</td>\n",
              "      <td>5</td>\n",
              "    </tr>\n",
              "    <tr>\n",
              "      <th>1256</th>\n",
              "      <td>UK</td>\n",
              "      <td>Waitrose</td>\n",
              "      <td>Luxury (expensive)</td>\n",
              "      <td>3718.44</td>\n",
              "      <td>0.220</td>\n",
              "      <td>9</td>\n",
              "      <td>2</td>\n",
              "      <td>5</td>\n",
              "    </tr>\n",
              "    <tr>\n",
              "      <th>1257</th>\n",
              "      <td>UK</td>\n",
              "      <td>Waitrose</td>\n",
              "      <td>Luxury (expensive)</td>\n",
              "      <td>3718.44</td>\n",
              "      <td>30.492</td>\n",
              "      <td>10</td>\n",
              "      <td>2</td>\n",
              "      <td>5</td>\n",
              "    </tr>\n",
              "  </tbody>\n",
              "</table>\n",
              "</div>"
            ],
            "text/plain": [
              "     country     store  ... perception_code  country_code\n",
              "1245      UK  Waitrose  ...               2             5\n",
              "1246      UK  Waitrose  ...               2             5\n",
              "1247      UK  Waitrose  ...               2             5\n",
              "1248      UK  Waitrose  ...               2             5\n",
              "1249      UK  Waitrose  ...               2             5\n",
              "1250      UK  Waitrose  ...               2             5\n",
              "1251      UK  Waitrose  ...               2             5\n",
              "1252      UK  Waitrose  ...               2             5\n",
              "1253      UK  Waitrose  ...               2             5\n",
              "1254      UK  Waitrose  ...               2             5\n",
              "1255      UK  Waitrose  ...               2             5\n",
              "1256      UK  Waitrose  ...               2             5\n",
              "1257      UK  Waitrose  ...               2             5\n",
              "\n",
              "[13 rows x 8 columns]"
            ]
          },
          "metadata": {
            "tags": []
          },
          "execution_count": 259
        }
      ]
    },
    {
      "cell_type": "code",
      "metadata": {
        "id": "jx_VNfzi0P0U"
      },
      "source": [
        "df=df.drop(1250)"
      ],
      "execution_count": 260,
      "outputs": []
    },
    {
      "cell_type": "code",
      "metadata": {
        "id": "gPvzEX0r0UjL"
      },
      "source": [
        "df=df.drop(1248)"
      ],
      "execution_count": 261,
      "outputs": []
    },
    {
      "cell_type": "code",
      "metadata": {
        "id": "9WRvimL3wCIk",
        "outputId": "09897ee2-d7bf-4392-e001-48ca2ca6349c",
        "colab": {
          "base_uri": "https://localhost:8080/",
          "height": 80
        }
      },
      "source": [
        "#egg outlier\n",
        "df.loc[df['price'] == 43.956]"
      ],
      "execution_count": 262,
      "outputs": [
        {
          "output_type": "execute_result",
          "data": {
            "text/html": [
              "<div>\n",
              "<style scoped>\n",
              "    .dataframe tbody tr th:only-of-type {\n",
              "        vertical-align: middle;\n",
              "    }\n",
              "\n",
              "    .dataframe tbody tr th {\n",
              "        vertical-align: top;\n",
              "    }\n",
              "\n",
              "    .dataframe thead th {\n",
              "        text-align: right;\n",
              "    }\n",
              "</style>\n",
              "<table border=\"1\" class=\"dataframe\">\n",
              "  <thead>\n",
              "    <tr style=\"text-align: right;\">\n",
              "      <th></th>\n",
              "      <th>country</th>\n",
              "      <th>store</th>\n",
              "      <th>perception</th>\n",
              "      <th>rent</th>\n",
              "      <th>price</th>\n",
              "      <th>product</th>\n",
              "      <th>perception_code</th>\n",
              "      <th>country_code</th>\n",
              "    </tr>\n",
              "  </thead>\n",
              "  <tbody>\n",
              "    <tr>\n",
              "      <th>1254</th>\n",
              "      <td>UK</td>\n",
              "      <td>Waitrose</td>\n",
              "      <td>Luxury (expensive)</td>\n",
              "      <td>3718.44</td>\n",
              "      <td>43.956</td>\n",
              "      <td>9</td>\n",
              "      <td>2</td>\n",
              "      <td>5</td>\n",
              "    </tr>\n",
              "  </tbody>\n",
              "</table>\n",
              "</div>"
            ],
            "text/plain": [
              "     country     store  ... perception_code  country_code\n",
              "1254      UK  Waitrose  ...               2             5\n",
              "\n",
              "[1 rows x 8 columns]"
            ]
          },
          "metadata": {
            "tags": []
          },
          "execution_count": 262
        }
      ]
    },
    {
      "cell_type": "code",
      "metadata": {
        "id": "rg64a3O8-0wb"
      },
      "source": [
        "df=df.drop(1254)"
      ],
      "execution_count": 263,
      "outputs": []
    },
    {
      "cell_type": "code",
      "metadata": {
        "id": "fr4pMOfY_HyR",
        "outputId": "fa97d54c-26a7-4488-b28d-055463633159",
        "colab": {
          "base_uri": "https://localhost:8080/",
          "height": 419
        }
      },
      "source": [
        "df"
      ],
      "execution_count": 264,
      "outputs": [
        {
          "output_type": "execute_result",
          "data": {
            "text/html": [
              "<div>\n",
              "<style scoped>\n",
              "    .dataframe tbody tr th:only-of-type {\n",
              "        vertical-align: middle;\n",
              "    }\n",
              "\n",
              "    .dataframe tbody tr th {\n",
              "        vertical-align: top;\n",
              "    }\n",
              "\n",
              "    .dataframe thead th {\n",
              "        text-align: right;\n",
              "    }\n",
              "</style>\n",
              "<table border=\"1\" class=\"dataframe\">\n",
              "  <thead>\n",
              "    <tr style=\"text-align: right;\">\n",
              "      <th></th>\n",
              "      <th>country</th>\n",
              "      <th>store</th>\n",
              "      <th>perception</th>\n",
              "      <th>rent</th>\n",
              "      <th>price</th>\n",
              "      <th>product</th>\n",
              "      <th>perception_code</th>\n",
              "      <th>country_code</th>\n",
              "    </tr>\n",
              "  </thead>\n",
              "  <tbody>\n",
              "    <tr>\n",
              "      <th>0</th>\n",
              "      <td>Germany</td>\n",
              "      <td>EDEKA</td>\n",
              "      <td>Mid-range</td>\n",
              "      <td>1071.0</td>\n",
              "      <td>3.486700</td>\n",
              "      <td>1</td>\n",
              "      <td>3</td>\n",
              "      <td>1</td>\n",
              "    </tr>\n",
              "    <tr>\n",
              "      <th>1</th>\n",
              "      <td>Germany</td>\n",
              "      <td>EDEKA</td>\n",
              "      <td>Mid-range</td>\n",
              "      <td>1071.0</td>\n",
              "      <td>1.915900</td>\n",
              "      <td>1</td>\n",
              "      <td>3</td>\n",
              "      <td>1</td>\n",
              "    </tr>\n",
              "    <tr>\n",
              "      <th>2</th>\n",
              "      <td>Germany</td>\n",
              "      <td>EDEKA</td>\n",
              "      <td>Mid-range</td>\n",
              "      <td>1071.0</td>\n",
              "      <td>2.082500</td>\n",
              "      <td>1</td>\n",
              "      <td>3</td>\n",
              "      <td>1</td>\n",
              "    </tr>\n",
              "    <tr>\n",
              "      <th>3</th>\n",
              "      <td>Germany</td>\n",
              "      <td>EDEKA</td>\n",
              "      <td>Mid-range</td>\n",
              "      <td>1071.0</td>\n",
              "      <td>2.058700</td>\n",
              "      <td>2</td>\n",
              "      <td>3</td>\n",
              "      <td>1</td>\n",
              "    </tr>\n",
              "    <tr>\n",
              "      <th>4</th>\n",
              "      <td>Germany</td>\n",
              "      <td>EDEKA</td>\n",
              "      <td>Mid-range</td>\n",
              "      <td>1071.0</td>\n",
              "      <td>2.058700</td>\n",
              "      <td>2</td>\n",
              "      <td>3</td>\n",
              "      <td>1</td>\n",
              "    </tr>\n",
              "    <tr>\n",
              "      <th>...</th>\n",
              "      <td>...</td>\n",
              "      <td>...</td>\n",
              "      <td>...</td>\n",
              "      <td>...</td>\n",
              "      <td>...</td>\n",
              "      <td>...</td>\n",
              "      <td>...</td>\n",
              "      <td>...</td>\n",
              "    </tr>\n",
              "    <tr>\n",
              "      <th>1915</th>\n",
              "      <td>Vietnam</td>\n",
              "      <td>Chung cu</td>\n",
              "      <td>Mid-range</td>\n",
              "      <td>500.0</td>\n",
              "      <td>0.111667</td>\n",
              "      <td>9</td>\n",
              "      <td>3</td>\n",
              "      <td>7</td>\n",
              "    </tr>\n",
              "    <tr>\n",
              "      <th>1916</th>\n",
              "      <td>Vietnam</td>\n",
              "      <td>Chung cu</td>\n",
              "      <td>Mid-range</td>\n",
              "      <td>500.0</td>\n",
              "      <td>0.111667</td>\n",
              "      <td>9</td>\n",
              "      <td>3</td>\n",
              "      <td>7</td>\n",
              "    </tr>\n",
              "    <tr>\n",
              "      <th>1917</th>\n",
              "      <td>Vietnam</td>\n",
              "      <td>Chung cu</td>\n",
              "      <td>Mid-range</td>\n",
              "      <td>500.0</td>\n",
              "      <td>4.480000</td>\n",
              "      <td>10</td>\n",
              "      <td>3</td>\n",
              "      <td>7</td>\n",
              "    </tr>\n",
              "    <tr>\n",
              "      <th>1918</th>\n",
              "      <td>Vietnam</td>\n",
              "      <td>Chung cu</td>\n",
              "      <td>Mid-range</td>\n",
              "      <td>500.0</td>\n",
              "      <td>3.800000</td>\n",
              "      <td>10</td>\n",
              "      <td>3</td>\n",
              "      <td>7</td>\n",
              "    </tr>\n",
              "    <tr>\n",
              "      <th>1919</th>\n",
              "      <td>Vietnam</td>\n",
              "      <td>Chung cu</td>\n",
              "      <td>Mid-range</td>\n",
              "      <td>500.0</td>\n",
              "      <td>4.660000</td>\n",
              "      <td>10</td>\n",
              "      <td>3</td>\n",
              "      <td>7</td>\n",
              "    </tr>\n",
              "  </tbody>\n",
              "</table>\n",
              "<p>1756 rows × 8 columns</p>\n",
              "</div>"
            ],
            "text/plain": [
              "      country     store perception  ...  product  perception_code  country_code\n",
              "0     Germany     EDEKA  Mid-range  ...        1                3             1\n",
              "1     Germany     EDEKA  Mid-range  ...        1                3             1\n",
              "2     Germany     EDEKA  Mid-range  ...        1                3             1\n",
              "3     Germany     EDEKA  Mid-range  ...        2                3             1\n",
              "4     Germany     EDEKA  Mid-range  ...        2                3             1\n",
              "...       ...       ...        ...  ...      ...              ...           ...\n",
              "1915  Vietnam  Chung cu  Mid-range  ...        9                3             7\n",
              "1916  Vietnam  Chung cu  Mid-range  ...        9                3             7\n",
              "1917  Vietnam  Chung cu  Mid-range  ...       10                3             7\n",
              "1918  Vietnam  Chung cu  Mid-range  ...       10                3             7\n",
              "1919  Vietnam  Chung cu  Mid-range  ...       10                3             7\n",
              "\n",
              "[1756 rows x 8 columns]"
            ]
          },
          "metadata": {
            "tags": []
          },
          "execution_count": 264
        }
      ]
    },
    {
      "cell_type": "markdown",
      "metadata": {
        "id": "Xg6YCaUF_mQH"
      },
      "source": [
        "We took 5 outlier values in total, we will now plot the data again. "
      ]
    },
    {
      "cell_type": "code",
      "metadata": {
        "id": "Uir4XH6U_q5o",
        "outputId": "33a05b59-c5ae-472b-b9fe-32cd1d42bab3",
        "colab": {
          "base_uri": "https://localhost:8080/",
          "height": 497
        }
      },
      "source": [
        "products=['Apples','Bananas','Tomatoes','Potatoes','Flour','Rice','Milk','Butter','Eggs','Chicken']\n",
        "prods=[1,2,3,4,5,6,7,8,9,10]\n",
        "mins=[]\n",
        "maxs=[]\n",
        "fig, axs = plt.subplots(2, 5, figsize=(21,8))\n",
        "x=0\n",
        "for line in range(2):\n",
        "  for el in range(5):\n",
        "    axs[line,el].plot(df.loc[df['product'] == prods[x]]['price'])  \n",
        "    mins.append(np.min(df.loc[df['product'] == prods[x]]['price']))\n",
        "    maxs.append(np.max(df.loc[df['product'] == prods[x]]['price']))\n",
        "    #print(x)\n",
        "    axs[line,el].set_xlabel(products[x])\n",
        "    axs[line,el].set_ylabel('Price (USD)')\n",
        "    x=x+1\n",
        "  x=5"
      ],
      "execution_count": 265,
      "outputs": [
        {
          "output_type": "display_data",
          "data": {
            "image/png": "[encoded data removed]",
            "text/plain": [
              "<Figure size 1512x576 with 10 Axes>"
            ]
          },
          "metadata": {
            "tags": [],
            "needs_background": "light"
          }
        }
      ]
    },
    {
      "cell_type": "code",
      "metadata": {
        "id": "mkgtSyiA_2_e",
        "outputId": "bf8687e6-cf5d-40b2-fd3d-b03b64f59ffb",
        "colab": {
          "base_uri": "https://localhost:8080/"
        }
      },
      "source": [
        "print('Mins:',mins)\n",
        "print('Maxs:',maxs)"
      ],
      "execution_count": 266,
      "outputs": [
        {
          "output_type": "stream",
          "text": [
            "Mins: [0.2725450902, 0.3044244295, 0.605, 0.4648933333, 0.40645, 0.00143, 0.5814977974000001, 0.012208695649999999, 0.0275, 1.42727385]\n",
            "Maxs: [19.8, 15.664000000000001, 15.9844, 8.866666667, 8.866666667, 11.62233333, 6.305263158, 30.96, 29.7, 39.150999999999996]\n"
          ],
          "name": "stdout"
        }
      ]
    },
    {
      "cell_type": "markdown",
      "metadata": {
        "id": "UvWw2oB4AEAV"
      },
      "source": [
        "As we can see we still have some outliers but we do not want to remove anymore since we want to avoid adding a self-generated bias to the observations that we are working with. "
      ]
    },
    {
      "cell_type": "markdown",
      "metadata": {
        "id": "6x1oj3fbDV1N"
      },
      "source": [
        "## Building the model"
      ]
    },
    {
      "cell_type": "markdown",
      "metadata": {
        "id": "CRWB_QbXMq5q"
      },
      "source": [
        "\n",
        "###Distributions: \n",
        "We will use a truncated Cauchy for the prior for the base price, since the fat tails of distribution allow for higher probabilities of values far away from the mean than the normal distribution. We also do not have particular prior knowledge about, we could have looked up average prices of each product, but this dataset includes information from different countries and different types of stores so we kept the prior not very informative. \n",
        "\n",
        "We will center the Cauchy around 5, assuming that most products cost around 5 USD. \n",
        "\n",
        "We will use Gamma priors for the country and store type multipliers. Since the mean is given my the multiplication of the location and scale parameters of the distribution, we can know that it will be centered around 1 if we set them at 2 and 0.5. We will also use a Gamma(1,1) for the error, this is only to derive the standard distribution for the likelihood, since I know that some of the outliers are due to human error. \n",
        "\n",
        "We will use a normal for the likelihood, setting the price to come from a normal distribution, whose mean is given by:  \n",
        "\n",
        "$(base price)*$ $(country$ $multiplier)*$ $(store$ $multiplier)$\n",
        "\n",
        "and whose standard deviation is given by the error, over which we are also computing a posterior. "
      ]
    },
    {
      "cell_type": "code",
      "metadata": {
        "id": "LXiGDz65CSxm"
      },
      "source": [
        "# We have to tell Stan what data to expect, what our parameters are and what\n",
        "# the likelihood and prior are. Since the posterior is just proportional to\n",
        "# the product of the likelihood and the prior, we don't distinguish between\n",
        "# them explicitly in the model below. Every distribution we specify is\n",
        "# automatically incorporated into the product of likelihood * prior.\n",
        "\n",
        "stan_code = \"\"\"\n",
        "\n",
        "// The data block contains all known quantities - typically the observed\n",
        "// data and any constant hyperparameters.\n",
        "\n",
        "data {  \n",
        "\n",
        "  int<lower=0> n; //number of observations \n",
        "  int<lower=0> p; // number of products \n",
        "  int<lower=0> c; // number of countries \n",
        "  int<lower=1> s; // number of store types \n",
        "  real<lower=0> prices[n]; // this establishes an n-sized array containing real values named price \n",
        "  int<lower=1> products[n]; // an array of length p containing ints for the product types which are coded from 1 to 10 \n",
        "  int<lower=1> countries[n]; // array of length containing ints for country codes \n",
        "  int<lower=1> stores[n]; // array of length containing the store type which is coded with perception_code\n",
        "\n",
        "\n",
        "}\n",
        "\n",
        "// The parameters block contains all unknown quantities - typically the\n",
        "// parameters of the model. Stan will generate samples from the posterior\n",
        "// distributions over all parameters.\n",
        "\n",
        "parameters {\n",
        "\n",
        "  real<lower=0> base_price[p]; // an array with a base price for each product \n",
        "  real<lower=0> country_mult[c]; // an array with multipliers for each country \n",
        "  real<lower=0> store_mult[s];// an array with multipliers for each store type (cheap,expensive,midrange) \n",
        "  real<lower=0> error; // error for the likelihood (this is the sigma)\n",
        "\n",
        "}\n",
        "\n",
        "// The model block contains all probability distributions in the model.\n",
        "// Think of this as specifying the generative model for the scenario.\n",
        "model {\n",
        "    //priors\n",
        "    base_price~cauchy(5,5); // prior over the base price \n",
        "    country_mult~gamma(2,0.5); // prior over country multiplier with mean=1\n",
        "    store_mult~gamma(2,0.5); //prior over store multiplier with mean=1\n",
        "    error ~ gamma(1,1);\n",
        "    //likelihood \n",
        "    for (i in 1:n){\n",
        "      prices[i]~normal(base_price[products[i]]*country_mult[countries[i]]*store_mult[stores[i]], error);\n",
        "    }\n",
        "}\n",
        "\n",
        "\"\"\""
      ],
      "execution_count": 267,
      "outputs": []
    },
    {
      "cell_type": "code",
      "metadata": {
        "id": "Qot-PgsMDfma",
        "outputId": "a9bc541b-05ff-4809-ae9c-1695f395e81e",
        "colab": {
          "base_uri": "https://localhost:8080/"
        }
      },
      "source": [
        "#compiling Stan model\n",
        "stan_model = pystan.StanModel(model_code=stan_code)"
      ],
      "execution_count": 268,
      "outputs": [
        {
          "output_type": "stream",
          "text": [
            "INFO:pystan:COMPILING THE C++ CODE FOR MODEL anon_model_48c5a5a4637074737e2ceedef0130919 NOW.\n"
          ],
          "name": "stderr"
        }
      ]
    },
    {
      "cell_type": "markdown",
      "metadata": {
        "id": "mEzrYeS1ptiC"
      },
      "source": [
        "### Providing STAN with the data"
      ]
    },
    {
      "cell_type": "code",
      "metadata": {
        "id": "g7SjV0hdgsKS",
        "outputId": "4cd62d87-8c92-407d-d684-bf11bd692dfb",
        "colab": {
          "base_uri": "https://localhost:8080/"
        }
      },
      "source": [
        "#creating a dictionary with our dataset \n",
        "data={\n",
        "    'n':len(df['price']),\n",
        "    'p':len(np.unique(df['product'])),\n",
        "    'c':len(np.unique(df['country'])),\n",
        "    's':len(np.unique(df['perception_code'])),\n",
        "\n",
        "    'prices':df['price'].values,\n",
        "    'products':df['product'].values,\n",
        "    'countries':df['country_code'].values,\n",
        "    'stores':df['perception_code'].values\n",
        "}\n",
        "data"
      ],
      "execution_count": 269,
      "outputs": [
        {
          "output_type": "execute_result",
          "data": {
            "text/plain": [
              "{'c': 7,\n",
              " 'countries': array([1, 1, 1, ..., 7, 7, 7]),\n",
              " 'n': 1756,\n",
              " 'p': 10,\n",
              " 'prices': array([3.4867, 1.9159, 2.0825, ..., 4.48  , 3.8   , 4.66  ]),\n",
              " 'products': array([ 1,  1,  1, ..., 10, 10, 10]),\n",
              " 's': 3,\n",
              " 'stores': array([3, 3, 3, ..., 3, 3, 3])}"
            ]
          },
          "metadata": {
            "tags": []
          },
          "execution_count": 269
        }
      ]
    },
    {
      "cell_type": "code",
      "metadata": {
        "id": "f5KzLhdtjBjj",
        "outputId": "8c6d9231-556e-45eb-a3a8-0a59d931108b",
        "colab": {
          "base_uri": "https://localhost:8080/"
        }
      },
      "source": [
        "print(data)"
      ],
      "execution_count": 270,
      "outputs": [
        {
          "output_type": "stream",
          "text": [
            "{'n': 1756, 'p': 10, 'c': 7, 's': 3, 'prices': array([3.4867, 1.9159, 2.0825, ..., 4.48  , 3.8   , 4.66  ]), 'products': array([ 1,  1,  1, ..., 10, 10, 10]), 'countries': array([1, 1, 1, ..., 7, 7, 7]), 'stores': array([3, 3, 3, ..., 3, 3, 3])}\n"
          ],
          "name": "stdout"
        }
      ]
    },
    {
      "cell_type": "markdown",
      "metadata": {
        "id": "Tj-Q8sBqtW_D"
      },
      "source": [
        "## Results\n",
        "### STAN output"
      ]
    },
    {
      "cell_type": "code",
      "metadata": {
        "id": "9Q9lklP_ju-K",
        "outputId": "7583a5e4-fe0d-460f-e6cc-609f3789dc7e",
        "colab": {
          "base_uri": "https://localhost:8080/"
        }
      },
      "source": [
        "#stan output \n",
        "stan_results=stan_model.sampling(data=data)\n",
        "samples=stan_results.extract()\n",
        "print(stan_results)"
      ],
      "execution_count": 271,
      "outputs": [
        {
          "output_type": "stream",
          "text": [
            "Inference for Stan model: anon_model_48c5a5a4637074737e2ceedef0130919.\n",
            "4 chains, each with iter=2000; warmup=1000; thin=1; \n",
            "post-warmup draws per chain=1000, total post-warmup draws=4000.\n",
            "\n",
            "                  mean se_mean     sd   2.5%    25%    50%    75%  97.5%  n_eff   Rhat\n",
            "base_price[1]     5.78    0.07   1.97   2.75   4.38   5.49   6.83  10.39    792   1.01\n",
            "base_price[2]      2.8    0.03   0.99   1.29   2.09   2.66   3.34   5.14    846    1.0\n",
            "base_price[3]     7.24    0.09   2.45   3.52   5.48   6.89   8.58  13.01    758   1.01\n",
            "base_price[4]     2.67    0.03   0.94   1.24   2.01   2.53   3.19   4.93    828   1.01\n",
            "base_price[5]     2.28    0.03   0.83   1.03   1.68   2.15   2.74   4.22    829   1.01\n",
            "base_price[6]     6.11    0.07   2.08   2.96   4.64   5.78   7.26  11.04    804   1.01\n",
            "base_price[7]     1.99    0.02   0.74   0.89   1.44   1.87   2.42   3.71    922    1.0\n",
            "base_price[8]    14.02    0.17   4.74   6.78  10.63  13.28  16.59  24.98    773   1.01\n",
            "base_price[9]     1.03    0.01   0.46   0.35    0.7   0.96   1.28   2.13   1052   1.01\n",
            "base_price[10]   14.14    0.17   4.78   6.86  10.68  13.42  16.81  25.33    771   1.01\n",
            "country_mult[1]   2.54    0.03   0.87   1.16   1.89   2.43   3.06   4.48    932    1.0\n",
            "country_mult[2]   2.04    0.02   0.71   0.93   1.51   1.94   2.47   3.69    957    1.0\n",
            "country_mult[3]   1.77    0.02   0.61   0.79   1.33   1.69   2.13   3.16    952    1.0\n",
            "country_mult[4]   3.45    0.04   1.19   1.56   2.56    3.3   4.16   6.19    972    1.0\n",
            "country_mult[5]   2.45    0.03   0.84    1.1   1.83   2.35   2.96    4.4    944    1.0\n",
            "country_mult[6]   2.75    0.03   0.94   1.24   2.05   2.64    3.3   4.89    937    1.0\n",
            "country_mult[7]   2.37    0.03   0.82   1.08   1.76   2.28   2.85   4.22    974    1.0\n",
            "store_mult[1]     0.28  5.3e-3   0.14    0.1   0.19   0.25   0.35   0.63    713    1.0\n",
            "store_mult[2]     0.46  8.6e-3   0.23   0.17    0.3   0.41   0.56   1.01    709    1.0\n",
            "store_mult[3]     0.35  6.7e-3   0.18   0.13   0.23   0.32   0.43   0.79    707    1.0\n",
            "error              2.8  9.6e-4   0.05    2.7   2.76   2.79   2.83   2.89   2431    1.0\n",
            "lp__             -2680    0.08   3.23  -2687  -2683  -2680  -2678  -2675   1518    1.0\n",
            "\n",
            "Samples were drawn using NUTS at Sun Nov  8 15:11:31 2020.\n",
            "For each parameter, n_eff is a crude measure of effective sample size,\n",
            "and Rhat is the potential scale reduction factor on split chains (at \n",
            "convergence, Rhat=1).\n"
          ],
          "name": "stdout"
        }
      ]
    },
    {
      "cell_type": "markdown",
      "metadata": {
        "id": "ZE3PEKIXtp-U"
      },
      "source": [
        "### Base prices for each product"
      ]
    },
    {
      "cell_type": "code",
      "metadata": {
        "id": "yQH2e1u8lBaZ",
        "outputId": "caa9c293-cd1e-4dc4-a048-5725a1b6ba47",
        "colab": {
          "base_uri": "https://localhost:8080/",
          "height": 483
        }
      },
      "source": [
        "products_1=['Apples','Bananas','Tomatoes','Potatoes','Flour','Rice','Milk','Butter','Eggs','Chicken']\n",
        "plt.figure(figsize=(16,8))\n",
        "for i in range(10):\n",
        "      #this part was taken from the code Prof. Scheffler shared with us on session 7.2 when we were modeling elections\n",
        "      #I thought it was a great way to show Stan output\n",
        "  plt.plot(sts.uniform.rvs(loc=i-0.1, scale=0.2, size=4000), samples['base_price'][:,i], ',', alpha=0.5)\n",
        "  plt.xticks([0,1,2,3,4,5,6,7,8,9],products_1)\n",
        "\n",
        "plt.plot(range(0, 10),samples['base_price'].mean(axis=0), marker='_',linewidth=0,color=\"black\",alpha=1,markersize=40)\n",
        "plt.grid(True, alpha=0.25, axis='y')\n",
        "plt.show()"
      ],
      "execution_count": 272,
      "outputs": [
        {
          "output_type": "display_data",
          "data": {
            "image/png": "[encoded data removed]",
            "text/plain": [
              "<Figure size 1152x576 with 1 Axes>"
            ]
          },
          "metadata": {
            "tags": [],
            "needs_background": "light"
          }
        }
      ]
    },
    {
      "cell_type": "markdown",
      "metadata": {
        "id": "2f58IunQttgg"
      },
      "source": [
        "### Country multipliers"
      ]
    },
    {
      "cell_type": "code",
      "metadata": {
        "id": "p1PZfg7RoQu0",
        "outputId": "f304c6c0-b51e-450f-8885-b50fa26ae326",
        "colab": {
          "base_uri": "https://localhost:8080/",
          "height": 483
        }
      },
      "source": [
        "countries_1=np.unique(df.country)\n",
        "plt.figure(figsize=(16,8))\n",
        "for i in range(7):\n",
        "      #this part was taken from the code Prof. Scheffler shared with us on session 7.2 when we were modeling elections\n",
        "      #I thought it was a great way to show Stan output\n",
        "  plt.plot(sts.uniform.rvs(loc=i-0.1, scale=0.2, size=4000), samples['country_mult'][:,i], ',', alpha=0.5)\n",
        "  plt.xticks([0,1,2,3,4,5,6],countries_1)\n",
        "\n",
        "plt.plot(range(0, 7),samples['country_mult'].mean(axis=0), marker='_',linewidth=0,color=\"black\",alpha=1,markersize=30)\n",
        "plt.grid(True, alpha=0.25, axis='y')\n",
        "plt.show()"
      ],
      "execution_count": 273,
      "outputs": [
        {
          "output_type": "display_data",
          "data": {
            "image/png": "[encoded data removed]",
            "text/plain": [
              "<Figure size 1152x576 with 1 Axes>"
            ]
          },
          "metadata": {
            "tags": [],
            "needs_background": "light"
          }
        }
      ]
    },
    {
      "cell_type": "markdown",
      "metadata": {
        "id": "RfkHyUMotvwO"
      },
      "source": [
        "### Store perception multipliers"
      ]
    },
    {
      "cell_type": "code",
      "metadata": {
        "id": "YcobLo33pOt2",
        "outputId": "f97aa271-89df-4c4d-eff3-9ab2877066b1",
        "colab": {
          "base_uri": "https://localhost:8080/",
          "height": 485
        }
      },
      "source": [
        "perceptions_1=np.unique(df.perception)\n",
        "plt.figure(figsize=(16,8))\n",
        "for i in range(3):\n",
        "      #this part was taken from the code Prof. Scheffler shared with us on session 7.2 when we were modeling elections\n",
        "      #I thought it was a great way to show Stan output\n",
        "  plt.plot(sts.uniform.rvs(loc=i-0.1, scale=0.2, size=4000), samples['store_mult'][:,i], ',', alpha=0.5)\n",
        "  plt.xticks([0,1,2],perceptions_1)\n",
        "\n",
        "plt.plot(range(0, 3),samples['store_mult'].mean(axis=0), marker='_',linewidth=0,color=\"black\",alpha=1,markersize=80)\n",
        "plt.grid(True, alpha=0.25, axis='y')\n",
        "plt.show()"
      ],
      "execution_count": 274,
      "outputs": [
        {
          "output_type": "display_data",
          "data": {
            "image/png": "[encoded data removed]",
            "text/plain": [
              "<Figure size 1152x576 with 1 Axes>"
            ]
          },
          "metadata": {
            "tags": [],
            "needs_background": "light"
          }
        }
      ]
    },
    {
      "cell_type": "markdown",
      "metadata": {
        "id": "w78wByRwtZ5a"
      },
      "source": [
        "### Rental prices \n",
        "In this section we focus on analyzing the correlation between the variation in price by geographical location and the variation in rental prices. We begin by taking the mean of the rental price data for each country. "
      ]
    },
    {
      "cell_type": "code",
      "metadata": {
        "id": "AhDY26GLtb5B",
        "outputId": "dfc2b3f4-41a8-4462-d479-6152feae964f",
        "colab": {
          "base_uri": "https://localhost:8080/"
        }
      },
      "source": [
        "rental_prices=[]\n",
        "for country in np.unique(df['country']):\n",
        "  countryrental=np.mean(df.loc[df['country'] == country]['rent'].values)\n",
        "  rental_prices.append(countryrental)\n",
        "  print(country,':',countryrental)"
      ],
      "execution_count": 275,
      "outputs": [
        {
          "output_type": "stream",
          "text": [
            "Germany : 1077.8536438127092\n",
            "Guatemala : 468.36725000000007\n",
            "Morocco : 1015.3\n",
            "South Korea : 471.7000000000001\n",
            "UK : 2231.6217\n",
            "USA : 2242.3847965738755\n",
            "Vietnam : 817.0993192771085\n"
          ],
          "name": "stdout"
        }
      ]
    },
    {
      "cell_type": "code",
      "metadata": {
        "id": "G73VzdDpv0rm",
        "outputId": "dbbe7e55-327a-4c88-d69b-cab4179f08e6",
        "colab": {
          "base_uri": "https://localhost:8080/"
        }
      },
      "source": [
        "rental_prices=np.asarray(rental_prices)\n",
        "country_mult_means=samples['country_mult'].mean(axis=0)\n",
        "c_matrix=np.corrcoef(rental_prices,country_mult_means)\n",
        "c_matrix[0,1]"
      ],
      "execution_count": 276,
      "outputs": [
        {
          "output_type": "execute_result",
          "data": {
            "text/plain": [
              "0.015983442301487252"
            ]
          },
          "metadata": {
            "tags": []
          },
          "execution_count": 276
        }
      ]
    },
    {
      "cell_type": "code",
      "metadata": {
        "id": "chDI1gfAwgC1"
      },
      "source": [
        "#the correlation coefficient appears to be very small\n",
        "#code inspired from a page on correlation and linear regression in python https://realpython.com/numpy-scipy-pandas-correlation-python/\n",
        "slope, intercept, r, p, stderr = sts.linregress(rental_prices,country_mult_means)"
      ],
      "execution_count": 277,
      "outputs": []
    },
    {
      "cell_type": "code",
      "metadata": {
        "id": "mPF0NpIAx297",
        "outputId": "618a6b65-e60d-4f04-8cb4-dfbf67cf4a52",
        "colab": {
          "base_uri": "https://localhost:8080/",
          "height": 514
        }
      },
      "source": [
        "plt.figure(figsize=(10, 8))\n",
        "plt.plot(rental_prices,country_mult_means,linewidth=0, marker='s', label='Data points')\n",
        "plt.plot(rental_prices, intercept + slope * rental_prices, label=f'Regression line: y={intercept:.2f}+{slope:.2f}x, r={r:.2f}',color='red',linewidth=.2)\n",
        "#plt.plot(rental_prices, np.poly1d(np.polyfit(rental_prices, country_mult_means, 1))(rental_prices), color='r', linewidth=.2)\n",
        "plt.legend()\n",
        "plt.xlabel('Rental price (USD)')\n",
        "plt.ylabel('Country multiplier')\n",
        "plt.show()\n",
        "print(\"Correlation coefficient: {} with p-value of {}\".format(round(c_matrix[0,1],3), round(p,3)))"
      ],
      "execution_count": 278,
      "outputs": [
        {
          "output_type": "display_data",
          "data": {
            "image/png": "[encoded data removed]",
            "text/plain": [
              "<Figure size 720x576 with 1 Axes>"
            ]
          },
          "metadata": {
            "tags": [],
            "needs_background": "light"
          }
        },
        {
          "output_type": "stream",
          "text": [
            "Correlation coefficient: 0.016 with p-value of 0.973\n"
          ],
          "name": "stdout"
        }
      ]
    },
    {
      "cell_type": "code",
      "metadata": {
        "id": "db2zJQ5o2rI-",
        "outputId": "c067f594-91eb-4810-af96-d9392f41a694",
        "colab": {
          "base_uri": "https://localhost:8080/"
        }
      },
      "source": [
        "country_mult_means"
      ],
      "execution_count": 279,
      "outputs": [
        {
          "output_type": "execute_result",
          "data": {
            "text/plain": [
              "array([2.54018833, 2.03723486, 1.77340949, 3.44589443, 2.45259   ,\n",
              "       2.75081475, 2.37320951])"
            ]
          },
          "metadata": {
            "tags": []
          },
          "execution_count": 279
        }
      ]
    },
    {
      "cell_type": "code",
      "metadata": {
        "id": "voXc8VYlyIZt",
        "outputId": "19242e15-3830-4e5b-f37c-716f1d465b00",
        "colab": {
          "base_uri": "https://localhost:8080/"
        }
      },
      "source": [
        "rental_prices"
      ],
      "execution_count": 280,
      "outputs": [
        {
          "output_type": "execute_result",
          "data": {
            "text/plain": [
              "array([1077.85364381,  468.36725   , 1015.3       ,  471.7       ,\n",
              "       2231.6217    , 2242.38479657,  817.09931928])"
            ]
          },
          "metadata": {
            "tags": []
          },
          "execution_count": 280
        }
      ]
    },
    {
      "cell_type": "markdown",
      "metadata": {
        "id": "_z1Sm6WvHv48"
      },
      "source": [
        "Based on the graph above, it seems that the datapoint in the upper left corner is driving the regression line to have a smaller slope, that datapoint is South Korea. As we can see South Korea has the largest multiplier, but it has almost the cheapest rent price. South Korea might be an example of a country where rent prices do not correlate with how expensive its groceries are. For the sole purpose of finding out, I want to look at the output of the correlation without the South Korea datapoint."
      ]
    },
    {
      "cell_type": "code",
      "metadata": {
        "id": "kbe8HU_zEMNm",
        "outputId": "dfa89b75-2fc8-42f2-8548-e314d4f3c1b9",
        "colab": {
          "base_uri": "https://localhost:8080/"
        }
      },
      "source": [
        "country_mult2=np.delete(country_mult_means,3)\n",
        "country_mult2"
      ],
      "execution_count": 281,
      "outputs": [
        {
          "output_type": "execute_result",
          "data": {
            "text/plain": [
              "array([2.54018833, 2.03723486, 1.77340949, 2.45259   , 2.75081475,\n",
              "       2.37320951])"
            ]
          },
          "metadata": {
            "tags": []
          },
          "execution_count": 281
        }
      ]
    },
    {
      "cell_type": "code",
      "metadata": {
        "id": "Lb9t70jEJFbl",
        "outputId": "313da20d-6944-4d0c-d409-c17689183175",
        "colab": {
          "base_uri": "https://localhost:8080/"
        }
      },
      "source": [
        "rental_prices2=np.delete(rental_prices,3)\n",
        "rental_prices2"
      ],
      "execution_count": 282,
      "outputs": [
        {
          "output_type": "execute_result",
          "data": {
            "text/plain": [
              "array([1077.85364381,  468.36725   , 1015.3       , 2231.6217    ,\n",
              "       2242.38479657,  817.09931928])"
            ]
          },
          "metadata": {
            "tags": []
          },
          "execution_count": 282
        }
      ]
    },
    {
      "cell_type": "code",
      "metadata": {
        "id": "aLwdvOltJtLb",
        "outputId": "9b9906b7-2232-4e9e-95a9-d66d5ee1190c",
        "colab": {
          "base_uri": "https://localhost:8080/"
        }
      },
      "source": [
        "c_matrix2=np.corrcoef(rental_prices2,country_mult2)\n",
        "c_matrix2[0,1]"
      ],
      "execution_count": 283,
      "outputs": [
        {
          "output_type": "execute_result",
          "data": {
            "text/plain": [
              "0.6338533619825264"
            ]
          },
          "metadata": {
            "tags": []
          },
          "execution_count": 283
        }
      ]
    },
    {
      "cell_type": "code",
      "metadata": {
        "id": "kyXwuLxSJzvi"
      },
      "source": [
        "slope1, intercept1, r1, p1, stderr1 = sts.linregress(rental_prices2,country_mult2)"
      ],
      "execution_count": 284,
      "outputs": []
    },
    {
      "cell_type": "code",
      "metadata": {
        "id": "mUP4iDaXJ4dX",
        "outputId": "bdbe2684-e3e1-4fce-907d-1e5cfa2b4c7a",
        "colab": {
          "base_uri": "https://localhost:8080/",
          "height": 514
        }
      },
      "source": [
        "plt.figure(figsize=(10, 8))\n",
        "plt.plot(rental_prices2,country_mult2,linewidth=0, marker='s', label='Data points')\n",
        "plt.plot(rental_prices2, intercept1 + slope1 * rental_prices2, label=f'Regression line: y={intercept1:.2f}+{slope1:.2f}x, r={r1:.2f}',color='red',linewidth=.2)\n",
        "#plt.plot(rental_prices, np.poly1d(np.polyfit(rental_prices, country_mult_means, 1))(rental_prices), color='r', linewidth=.2)\n",
        "plt.legend()\n",
        "plt.xlabel('Rental price (USD)')\n",
        "plt.ylabel('Country multiplier')\n",
        "plt.show()\n",
        "print(\"Correlation coefficient: {} with p-value of {}\".format(round(c_matrix2[0,1],3), round(p1,3)))"
      ],
      "execution_count": 285,
      "outputs": [
        {
          "output_type": "display_data",
          "data": {
            "image/png": "[encoded data removed]",
            "text/plain": [
              "<Figure size 720x576 with 1 Axes>"
            ]
          },
          "metadata": {
            "tags": [],
            "needs_background": "light"
          }
        },
        {
          "output_type": "stream",
          "text": [
            "Correlation coefficient: 0.634 with p-value of 0.177\n"
          ],
          "name": "stdout"
        }
      ]
    },
    {
      "cell_type": "markdown",
      "metadata": {
        "id": "dk9Ev_h-KmO7"
      },
      "source": [
        "Without the South Korea datapoint, we have a correlation of 0.6 which is pretty good, however, we still will report the main outcome which is the negative correlation, because while it is true that it correlates for these countries, South Korea is an exception to the rule."
      ]
    },
    {
      "cell_type": "code",
      "metadata": {
        "id": "Kqnz9VZ8awRI"
      },
      "source": [
        ""
      ],
      "execution_count": null,
      "outputs": []
    }
  ]
}
